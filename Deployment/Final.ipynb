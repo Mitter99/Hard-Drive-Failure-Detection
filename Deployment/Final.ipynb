{
 "cells": [
  {
   "cell_type": "code",
   "execution_count": 1,
   "id": "fbb33b87",
   "metadata": {},
   "outputs": [],
   "source": [
    "import numpy as np\n",
    "import pandas as pd \n",
    "import matplotlib.pyplot as plt\n",
    "import seaborn as sns\n",
    "import time\n",
    "import warnings\n",
    "\n",
    "import math\n",
    "import joblib\n",
    "import lightgbm as lgb\n",
    "\n",
    "from sklearn.metrics import roc_curve, auc, f1_score, accuracy_score, precision_score, recall_score, roc_auc_score"
   ]
  },
  {
   "cell_type": "code",
   "execution_count": 15,
   "id": "4f566c7c",
   "metadata": {},
   "outputs": [],
   "source": [
    "def pre_processing(test):\n",
    "    test= test.dropna(axis=0)\n",
    "    result= test['failure']\n",
    "    data= test[['smart_5_raw','smart_9_raw','smart_187_raw','smart_188_raw','smart_193_raw','smart_194_raw','smart_197_raw','smart_198_raw','smart_241_raw','smart_242_raw']]\n",
    "    \n",
    "    return data,result"
   ]
  },
  {
   "cell_type": "code",
   "execution_count": 16,
   "id": "7cd53e7e",
   "metadata": {},
   "outputs": [],
   "source": [
    "def final_fun_1():\n",
    "    df= pd.read_csv('test.csv') \n",
    "    data= pre_processing(df)\n",
    "    Test= data[0]\n",
    "    actual= data[1]\n",
    "    clf= joblib.load('final_model.pkl')\n",
    "    pred= clf.predict(Test)\n",
    "    return actual,pred"
   ]
  },
  {
   "cell_type": "code",
   "execution_count": 21,
   "id": "51591846",
   "metadata": {},
   "outputs": [],
   "source": [
    "def final_fun_2():\n",
    "    result= final_fun_1()\n",
    "    actual= result[0]\n",
    "    pred= result[1] \n",
    "\n",
    "    print('AUC Score:', roc_auc_score(actual,pred))\n",
    "    print('F1-Score:',f1_score(actual,pred))\n",
    "    print('Precision Score:',precision_score(actual,pred))\n",
    "    print('Recall Score:',recall_score(actual,pred))"
   ]
  },
  {
   "cell_type": "code",
   "execution_count": 31,
   "id": "d644c06a",
   "metadata": {},
   "outputs": [
    {
     "name": "stdout",
     "output_type": "stream",
     "text": [
      "AUC Score: 0.929875\n",
      "F1-Score: 0.9344702721644667\n",
      "Precision Score: 0.8770006577504933\n",
      "Recall Score: 1.0\n",
      "Wall time: 562 ms\n"
     ]
    }
   ],
   "source": [
    "%%time\n",
    "final_fun_2()"
   ]
  }
 ],
 "metadata": {
  "kernelspec": {
   "display_name": "Python 3 (ipykernel)",
   "language": "python",
   "name": "python3"
  },
  "language_info": {
   "codemirror_mode": {
    "name": "ipython",
    "version": 3
   },
   "file_extension": ".py",
   "mimetype": "text/x-python",
   "name": "python",
   "nbconvert_exporter": "python",
   "pygments_lexer": "ipython3",
   "version": "3.9.7"
  }
 },
 "nbformat": 4,
 "nbformat_minor": 5
}
