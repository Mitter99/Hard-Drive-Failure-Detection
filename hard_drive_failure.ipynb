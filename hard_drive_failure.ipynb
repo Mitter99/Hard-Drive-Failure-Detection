{
 "cells": [
  {
   "cell_type": "code",
   "execution_count": 1,
   "id": "b779158f",
   "metadata": {},
   "outputs": [],
   "source": [
    "import numpy as np\n",
    "import pandas as pd \n",
    "import matplotlib.pyplot as plt\n",
    "import seaborn as sns\n",
    "import time\n",
    "import warnings\n",
    "\n",
    "from sklearn.model_selection import RandomizedSearchCV\n",
    "from sklearn.model_selection import GridSearchCV\n",
    "from sklearn.neighbors import KNeighborsClassifier\n",
    "from sklearn.metrics import confusion_matrix\n",
    "from sklearn.svm import SVC\n",
    "from collections import Counter, defaultdict\n",
    "from sklearn.calibration import CalibratedClassifierCV\n",
    "from sklearn.naive_bayes import MultinomialNB\n",
    "from sklearn.naive_bayes import GaussianNB\n",
    "from sklearn.model_selection import train_test_split\n",
    "import math\n",
    "\n",
    "from sklearn.metrics import normalized_mutual_info_score\n",
    "from sklearn.ensemble import RandomForestClassifier\n",
    "warnings.filterwarnings(\"ignore\")\n",
    "from sklearn.preprocessing import Normalizer\n",
    "from sklearn.tree import DecisionTreeClassifier\n",
    "from sklearn import model_selection\n",
    "from sklearn.linear_model import LogisticRegression\n",
    "from sklearn.naive_bayes import MultinomialNB\n",
    "import lightgbm as lgb\n",
    "\n",
    "from random import choices\n",
    "from datetime import datetime,timedelta\n",
    "from scipy.sparse import hstack\n",
    "from scipy.sparse import coo_matrix\n",
    "from scipy.sparse import csr_matrix\n",
    "from sklearn.metrics import roc_curve, auc, f1_score, accuracy_score, precision_score, recall_score, roc_auc_score,fbeta_score"
   ]
  },
  {
   "cell_type": "markdown",
   "id": "7705e218",
   "metadata": {},
   "source": [
    "### Reading the data file "
   ]
  },
  {
   "cell_type": "code",
   "execution_count": 2,
   "id": "8bdd3cf1",
   "metadata": {},
   "outputs": [
    {
     "data": {
      "text/html": [
       "<div>\n",
       "<style scoped>\n",
       "    .dataframe tbody tr th:only-of-type {\n",
       "        vertical-align: middle;\n",
       "    }\n",
       "\n",
       "    .dataframe tbody tr th {\n",
       "        vertical-align: top;\n",
       "    }\n",
       "\n",
       "    .dataframe thead th {\n",
       "        text-align: right;\n",
       "    }\n",
       "</style>\n",
       "<table border=\"1\" class=\"dataframe\">\n",
       "  <thead>\n",
       "    <tr style=\"text-align: right;\">\n",
       "      <th></th>\n",
       "      <th>date</th>\n",
       "      <th>serial_number</th>\n",
       "      <th>model</th>\n",
       "      <th>capacity_bytes</th>\n",
       "      <th>failure</th>\n",
       "      <th>smart_5_raw</th>\n",
       "      <th>smart_9_raw</th>\n",
       "      <th>smart_187_raw</th>\n",
       "      <th>smart_188_raw</th>\n",
       "      <th>smart_193_raw</th>\n",
       "      <th>smart_194_raw</th>\n",
       "      <th>smart_197_raw</th>\n",
       "      <th>smart_198_raw</th>\n",
       "      <th>smart_241_raw</th>\n",
       "      <th>smart_242_raw</th>\n",
       "    </tr>\n",
       "  </thead>\n",
       "  <tbody>\n",
       "    <tr>\n",
       "      <th>0</th>\n",
       "      <td>2019-01-01</td>\n",
       "      <td>Z305B2QN</td>\n",
       "      <td>ST4000DM000</td>\n",
       "      <td>4000787030016</td>\n",
       "      <td>0</td>\n",
       "      <td>0.0</td>\n",
       "      <td>26712.0</td>\n",
       "      <td>0.0</td>\n",
       "      <td>0.0</td>\n",
       "      <td>34169.0</td>\n",
       "      <td>20.0</td>\n",
       "      <td>0.0</td>\n",
       "      <td>0.0</td>\n",
       "      <td>4.553972e+10</td>\n",
       "      <td>1.183566e+11</td>\n",
       "    </tr>\n",
       "    <tr>\n",
       "      <th>1</th>\n",
       "      <td>2019-01-01</td>\n",
       "      <td>ZJV0XJQ4</td>\n",
       "      <td>ST12000NM0007</td>\n",
       "      <td>12000138625024</td>\n",
       "      <td>0</td>\n",
       "      <td>0.0</td>\n",
       "      <td>3753.0</td>\n",
       "      <td>0.0</td>\n",
       "      <td>0.0</td>\n",
       "      <td>2145.0</td>\n",
       "      <td>28.0</td>\n",
       "      <td>0.0</td>\n",
       "      <td>0.0</td>\n",
       "      <td>2.887057e+10</td>\n",
       "      <td>2.160959e+10</td>\n",
       "    </tr>\n",
       "    <tr>\n",
       "      <th>2</th>\n",
       "      <td>2019-01-01</td>\n",
       "      <td>ZJV0XJQ3</td>\n",
       "      <td>ST12000NM0007</td>\n",
       "      <td>12000138625024</td>\n",
       "      <td>0</td>\n",
       "      <td>0.0</td>\n",
       "      <td>792.0</td>\n",
       "      <td>0.0</td>\n",
       "      <td>0.0</td>\n",
       "      <td>363.0</td>\n",
       "      <td>34.0</td>\n",
       "      <td>0.0</td>\n",
       "      <td>0.0</td>\n",
       "      <td>6.111459e+09</td>\n",
       "      <td>7.441231e+08</td>\n",
       "    </tr>\n",
       "    <tr>\n",
       "      <th>3</th>\n",
       "      <td>2019-01-01</td>\n",
       "      <td>ZJV0XJQ0</td>\n",
       "      <td>ST12000NM0007</td>\n",
       "      <td>12000138625024</td>\n",
       "      <td>0</td>\n",
       "      <td>0.0</td>\n",
       "      <td>4356.0</td>\n",
       "      <td>0.0</td>\n",
       "      <td>0.0</td>\n",
       "      <td>687.0</td>\n",
       "      <td>22.0</td>\n",
       "      <td>0.0</td>\n",
       "      <td>0.0</td>\n",
       "      <td>3.350759e+10</td>\n",
       "      <td>3.938334e+10</td>\n",
       "    </tr>\n",
       "    <tr>\n",
       "      <th>4</th>\n",
       "      <td>2019-01-01</td>\n",
       "      <td>ZA16NQJR</td>\n",
       "      <td>ST8000NM0055</td>\n",
       "      <td>8001563222016</td>\n",
       "      <td>0</td>\n",
       "      <td>0.0</td>\n",
       "      <td>14673.0</td>\n",
       "      <td>0.0</td>\n",
       "      <td>0.0</td>\n",
       "      <td>15470.0</td>\n",
       "      <td>35.0</td>\n",
       "      <td>0.0</td>\n",
       "      <td>0.0</td>\n",
       "      <td>4.771906e+10</td>\n",
       "      <td>9.485711e+10</td>\n",
       "    </tr>\n",
       "  </tbody>\n",
       "</table>\n",
       "</div>"
      ],
      "text/plain": [
       "         date serial_number          model  capacity_bytes  failure  \\\n",
       "0  2019-01-01      Z305B2QN    ST4000DM000   4000787030016        0   \n",
       "1  2019-01-01      ZJV0XJQ4  ST12000NM0007  12000138625024        0   \n",
       "2  2019-01-01      ZJV0XJQ3  ST12000NM0007  12000138625024        0   \n",
       "3  2019-01-01      ZJV0XJQ0  ST12000NM0007  12000138625024        0   \n",
       "4  2019-01-01      ZA16NQJR   ST8000NM0055   8001563222016        0   \n",
       "\n",
       "   smart_5_raw  smart_9_raw  smart_187_raw  smart_188_raw  smart_193_raw  \\\n",
       "0          0.0      26712.0            0.0            0.0        34169.0   \n",
       "1          0.0       3753.0            0.0            0.0         2145.0   \n",
       "2          0.0        792.0            0.0            0.0          363.0   \n",
       "3          0.0       4356.0            0.0            0.0          687.0   \n",
       "4          0.0      14673.0            0.0            0.0        15470.0   \n",
       "\n",
       "   smart_194_raw  smart_197_raw  smart_198_raw  smart_241_raw  smart_242_raw  \n",
       "0           20.0            0.0            0.0   4.553972e+10   1.183566e+11  \n",
       "1           28.0            0.0            0.0   2.887057e+10   2.160959e+10  \n",
       "2           34.0            0.0            0.0   6.111459e+09   7.441231e+08  \n",
       "3           22.0            0.0            0.0   3.350759e+10   3.938334e+10  \n",
       "4           35.0            0.0            0.0   4.771906e+10   9.485711e+10  "
      ]
     },
     "execution_count": 2,
     "metadata": {},
     "output_type": "execute_result"
    }
   ],
   "source": [
    "bb= pd.read_csv('pre_feat.csv')\n",
    "bb.head()"
   ]
  },
  {
   "cell_type": "markdown",
   "id": "3b96f0dc",
   "metadata": {},
   "source": [
    "### Changing Capacity from bytes to Terabytes"
   ]
  },
  {
   "cell_type": "code",
   "execution_count": 3,
   "id": "df16f0c8",
   "metadata": {},
   "outputs": [],
   "source": [
    "bb['capacity_tb']=bb['capacity_bytes']/1e12"
   ]
  },
  {
   "cell_type": "code",
   "execution_count": 4,
   "id": "0bd4ba6d",
   "metadata": {},
   "outputs": [],
   "source": [
    "bb=bb.drop(['capacity_bytes'],axis=1)"
   ]
  },
  {
   "cell_type": "markdown",
   "id": "a5e6c371",
   "metadata": {},
   "source": [
    "### Counts of failure(class-1) and non-failure(class-0) drives"
   ]
  },
  {
   "cell_type": "code",
   "execution_count": 5,
   "id": "d90324b5",
   "metadata": {},
   "outputs": [
    {
     "data": {
      "text/plain": [
       "0    7394485\n",
       "1        387\n",
       "Name: failure, dtype: int64"
      ]
     },
     "execution_count": 5,
     "metadata": {},
     "output_type": "execute_result"
    }
   ],
   "source": [
    "bb['failure'].value_counts()"
   ]
  },
  {
   "cell_type": "markdown",
   "id": "7068042d",
   "metadata": {},
   "source": [
    "### Changing date(feature) format from string to datetime"
   ]
  },
  {
   "cell_type": "code",
   "execution_count": 6,
   "id": "ca551d40",
   "metadata": {},
   "outputs": [],
   "source": [
    "bb['date'] = pd.to_datetime(bb['date'], format='%Y-%m-%d')"
   ]
  },
  {
   "cell_type": "markdown",
   "id": "1aa676e4",
   "metadata": {},
   "source": [
    "### Creating dataframe of failure drive only"
   ]
  },
  {
   "cell_type": "code",
   "execution_count": 7,
   "id": "3c2104a9",
   "metadata": {},
   "outputs": [
    {
     "data": {
      "text/plain": [
       "(387, 15)"
      ]
     },
     "execution_count": 7,
     "metadata": {},
     "output_type": "execute_result"
    }
   ],
   "source": [
    "bb_fail= bb[bb['failure']==1]\n",
    "bb_fail.shape"
   ]
  },
  {
   "cell_type": "code",
   "execution_count": 8,
   "id": "01238772",
   "metadata": {},
   "outputs": [
    {
     "data": {
      "text/plain": [
       "(7394485, 15)"
      ]
     },
     "execution_count": 8,
     "metadata": {},
     "output_type": "execute_result"
    }
   ],
   "source": [
    "bb_w= bb[bb['failure']==0]\n",
    "bb_w.shape"
   ]
  },
  {
   "cell_type": "markdown",
   "id": "0bb12eed",
   "metadata": {},
   "source": [
    "### Creating dataframe of drives that failed but present in dataset multiple times in running state"
   ]
  },
  {
   "cell_type": "code",
   "execution_count": 9,
   "id": "918875c7",
   "metadata": {},
   "outputs": [
    {
     "data": {
      "text/plain": [
       "(16792, 15)"
      ]
     },
     "execution_count": 9,
     "metadata": {},
     "output_type": "execute_result"
    }
   ],
   "source": [
    "bb_wf = bb.loc[bb['serial_number'].isin(bb_fail['serial_number'])]\n",
    "bb_wf= bb_wf[bb_wf['failure']==0]\n",
    "bb_wf.shape"
   ]
  },
  {
   "cell_type": "code",
   "execution_count": 10,
   "id": "359513d1",
   "metadata": {},
   "outputs": [
    {
     "data": {
      "text/html": [
       "<div>\n",
       "<style scoped>\n",
       "    .dataframe tbody tr th:only-of-type {\n",
       "        vertical-align: middle;\n",
       "    }\n",
       "\n",
       "    .dataframe tbody tr th {\n",
       "        vertical-align: top;\n",
       "    }\n",
       "\n",
       "    .dataframe thead th {\n",
       "        text-align: right;\n",
       "    }\n",
       "</style>\n",
       "<table border=\"1\" class=\"dataframe\">\n",
       "  <thead>\n",
       "    <tr style=\"text-align: right;\">\n",
       "      <th></th>\n",
       "      <th>date</th>\n",
       "      <th>serial_number</th>\n",
       "      <th>model</th>\n",
       "      <th>failure</th>\n",
       "      <th>smart_5_raw</th>\n",
       "      <th>smart_9_raw</th>\n",
       "      <th>smart_187_raw</th>\n",
       "      <th>smart_188_raw</th>\n",
       "      <th>smart_193_raw</th>\n",
       "      <th>smart_194_raw</th>\n",
       "      <th>smart_197_raw</th>\n",
       "      <th>smart_198_raw</th>\n",
       "      <th>smart_241_raw</th>\n",
       "      <th>smart_242_raw</th>\n",
       "      <th>capacity_tb</th>\n",
       "    </tr>\n",
       "  </thead>\n",
       "  <tbody>\n",
       "    <tr>\n",
       "      <th>114</th>\n",
       "      <td>2019-01-01</td>\n",
       "      <td>Z304JN7J</td>\n",
       "      <td>ST4000DM000</td>\n",
       "      <td>0</td>\n",
       "      <td>0.0</td>\n",
       "      <td>28392.0</td>\n",
       "      <td>0.0</td>\n",
       "      <td>0.0</td>\n",
       "      <td>7273.0</td>\n",
       "      <td>23.0</td>\n",
       "      <td>0.0</td>\n",
       "      <td>0.0</td>\n",
       "      <td>4.796113e+10</td>\n",
       "      <td>1.341161e+11</td>\n",
       "      <td>4.000787</td>\n",
       "    </tr>\n",
       "    <tr>\n",
       "      <th>194</th>\n",
       "      <td>2019-01-01</td>\n",
       "      <td>ZCH05KWT</td>\n",
       "      <td>ST12000NM0007</td>\n",
       "      <td>0</td>\n",
       "      <td>24.0</td>\n",
       "      <td>11650.0</td>\n",
       "      <td>12.0</td>\n",
       "      <td>0.0</td>\n",
       "      <td>633.0</td>\n",
       "      <td>40.0</td>\n",
       "      <td>88.0</td>\n",
       "      <td>88.0</td>\n",
       "      <td>6.049029e+10</td>\n",
       "      <td>1.213064e+11</td>\n",
       "      <td>12.000139</td>\n",
       "    </tr>\n",
       "    <tr>\n",
       "      <th>297</th>\n",
       "      <td>2019-01-01</td>\n",
       "      <td>ZA16DSXV</td>\n",
       "      <td>ST8000NM0055</td>\n",
       "      <td>0</td>\n",
       "      <td>0.0</td>\n",
       "      <td>15892.0</td>\n",
       "      <td>0.0</td>\n",
       "      <td>0.0</td>\n",
       "      <td>14936.0</td>\n",
       "      <td>29.0</td>\n",
       "      <td>0.0</td>\n",
       "      <td>0.0</td>\n",
       "      <td>5.012936e+10</td>\n",
       "      <td>1.102447e+11</td>\n",
       "      <td>8.001563</td>\n",
       "    </tr>\n",
       "    <tr>\n",
       "      <th>356</th>\n",
       "      <td>2019-01-01</td>\n",
       "      <td>ZCH080T0</td>\n",
       "      <td>ST12000NM0007</td>\n",
       "      <td>0</td>\n",
       "      <td>0.0</td>\n",
       "      <td>10487.0</td>\n",
       "      <td>0.0</td>\n",
       "      <td>0.0</td>\n",
       "      <td>1501.0</td>\n",
       "      <td>25.0</td>\n",
       "      <td>0.0</td>\n",
       "      <td>0.0</td>\n",
       "      <td>5.349964e+10</td>\n",
       "      <td>8.614009e+10</td>\n",
       "      <td>12.000139</td>\n",
       "    </tr>\n",
       "    <tr>\n",
       "      <th>727</th>\n",
       "      <td>2019-01-01</td>\n",
       "      <td>ZA1890DY</td>\n",
       "      <td>ST8000NM0055</td>\n",
       "      <td>0</td>\n",
       "      <td>3896.0</td>\n",
       "      <td>12937.0</td>\n",
       "      <td>1.0</td>\n",
       "      <td>0.0</td>\n",
       "      <td>14353.0</td>\n",
       "      <td>38.0</td>\n",
       "      <td>0.0</td>\n",
       "      <td>0.0</td>\n",
       "      <td>4.252652e+10</td>\n",
       "      <td>1.072186e+11</td>\n",
       "      <td>8.001563</td>\n",
       "    </tr>\n",
       "  </tbody>\n",
       "</table>\n",
       "</div>"
      ],
      "text/plain": [
       "          date serial_number          model  failure  smart_5_raw  \\\n",
       "114 2019-01-01      Z304JN7J    ST4000DM000        0          0.0   \n",
       "194 2019-01-01      ZCH05KWT  ST12000NM0007        0         24.0   \n",
       "297 2019-01-01      ZA16DSXV   ST8000NM0055        0          0.0   \n",
       "356 2019-01-01      ZCH080T0  ST12000NM0007        0          0.0   \n",
       "727 2019-01-01      ZA1890DY   ST8000NM0055        0       3896.0   \n",
       "\n",
       "     smart_9_raw  smart_187_raw  smart_188_raw  smart_193_raw  smart_194_raw  \\\n",
       "114      28392.0            0.0            0.0         7273.0           23.0   \n",
       "194      11650.0           12.0            0.0          633.0           40.0   \n",
       "297      15892.0            0.0            0.0        14936.0           29.0   \n",
       "356      10487.0            0.0            0.0         1501.0           25.0   \n",
       "727      12937.0            1.0            0.0        14353.0           38.0   \n",
       "\n",
       "     smart_197_raw  smart_198_raw  smart_241_raw  smart_242_raw  capacity_tb  \n",
       "114            0.0            0.0   4.796113e+10   1.341161e+11     4.000787  \n",
       "194           88.0           88.0   6.049029e+10   1.213064e+11    12.000139  \n",
       "297            0.0            0.0   5.012936e+10   1.102447e+11     8.001563  \n",
       "356            0.0            0.0   5.349964e+10   8.614009e+10    12.000139  \n",
       "727            0.0            0.0   4.252652e+10   1.072186e+11     8.001563  "
      ]
     },
     "execution_count": 10,
     "metadata": {},
     "output_type": "execute_result"
    }
   ],
   "source": [
    "bb_wf.head()"
   ]
  },
  {
   "cell_type": "markdown",
   "id": "c10c8776",
   "metadata": {},
   "source": [
    "### Changing drive status to fail(class- 0 to 1), by backtracking(smoothing). By going n days(=10days) back of the failure drives we are changing the drive status from runnig to failure(0 → 1)."
   ]
  },
  {
   "cell_type": "code",
   "execution_count": 268,
   "id": "8995c637",
   "metadata": {},
   "outputs": [
    {
     "name": "stderr",
     "output_type": "stream",
     "text": [
      "100%|████████████████████████████████████████████████████████████████████████████████| 387/387 [03:02<00:00,  2.12it/s]"
     ]
    },
    {
     "name": "stdout",
     "output_type": "stream",
     "text": [
      "3613\n"
     ]
    },
    {
     "name": "stderr",
     "output_type": "stream",
     "text": [
      "\n"
     ]
    }
   ],
   "source": [
    "from tqdm import tqdm\n",
    "c=0\n",
    "for ind in tqdm(bb_fail.index):\n",
    "    for j in bb_wf.index:\n",
    "        if (bb_fail['serial_number'][ind]== bb_wf['serial_number'][j]) and \\\n",
    "        ((bb_wf['date'][j]== (bb_fail['date'][ind]-timedelta(days=1))) or \\\n",
    "         (bb_wf['date'][j]== (bb_fail['date'][ind]-timedelta(days=2))) or \\\n",
    "         (bb_wf['date'][j]== (bb_fail['date'][ind]-timedelta(days=3))) or \\\n",
    "         (bb_wf['date'][j]== (bb_fail['date'][ind]-timedelta(days=4))) or \\\n",
    "         (bb_wf['date'][j]== (bb_fail['date'][ind]-timedelta(days=5))) or \\\n",
    "         (bb_wf['date'][j]== (bb_fail['date'][ind]-timedelta(days=6))) or \\\n",
    "         (bb_wf['date'][j]== (bb_fail['date'][ind]-timedelta(days=7))) or \\\n",
    "         (bb_wf['date'][j]== (bb_fail['date'][ind]-timedelta(days=8))) or \\\n",
    "         (bb_wf['date'][j]== (bb_fail['date'][ind]-timedelta(days=9))) or \\\n",
    "         (bb_wf['date'][j]== (bb_fail['date'][ind]-timedelta(days=10)))):\n",
    "                 \n",
    "            #print(bb_fail['serial_number'][ind])\n",
    "            bb_wf.at[j,'failure']=1\n",
    "            c+=1\n",
    "print(c)"
   ]
  },
  {
   "cell_type": "markdown",
   "id": "82c3460c",
   "metadata": {},
   "source": [
    "### Counting the failure drives after Smoothing"
   ]
  },
  {
   "cell_type": "code",
   "execution_count": 270,
   "id": "fdad8ecf",
   "metadata": {},
   "outputs": [
    {
     "data": {
      "text/plain": [
       "0    13179\n",
       "1     3613\n",
       "Name: failure, dtype: int64"
      ]
     },
     "execution_count": 270,
     "metadata": {},
     "output_type": "execute_result"
    }
   ],
   "source": [
    "bb_wf['failure'].value_counts()"
   ]
  },
  {
   "cell_type": "markdown",
   "id": "4c25949b",
   "metadata": {},
   "source": [
    "### Putting the actual fail drive and the drives that converted from running to failure into a dataframe"
   ]
  },
  {
   "cell_type": "code",
   "execution_count": 271,
   "id": "9b8df8ed",
   "metadata": {},
   "outputs": [],
   "source": [
    "bb_hf= bb_wf[bb_wf['failure']==1]"
   ]
  },
  {
   "cell_type": "code",
   "execution_count": 272,
   "id": "251d9f35",
   "metadata": {},
   "outputs": [
    {
     "data": {
      "text/plain": [
       "(4000, 15)"
      ]
     },
     "execution_count": 272,
     "metadata": {},
     "output_type": "execute_result"
    }
   ],
   "source": [
    "fail=[bb_fail,bb_hf]\n",
    "\n",
    "bb_10= pd.concat(fail)\n",
    "bb_10.shape"
   ]
  },
  {
   "cell_type": "markdown",
   "id": "53b4df81",
   "metadata": {},
   "source": [
    "### Randomly picking running drives "
   ]
  },
  {
   "cell_type": "code",
   "execution_count": 274,
   "id": "f510cbd7",
   "metadata": {},
   "outputs": [],
   "source": [
    "bb_nf= bb_wf[bb_wf['failure']==0]\n",
    "bb_ran= bb_nf.sample(4000)"
   ]
  },
  {
   "cell_type": "code",
   "execution_count": 276,
   "id": "322dc120",
   "metadata": {},
   "outputs": [
    {
     "data": {
      "text/plain": [
       "(8000, 15)"
      ]
     },
     "execution_count": 276,
     "metadata": {},
     "output_type": "execute_result"
    }
   ],
   "source": [
    "d=[bb_10,bb_ran]\n",
    "data= pd.concat(d)\n",
    "data.shape"
   ]
  },
  {
   "cell_type": "code",
   "execution_count": null,
   "id": "711d24e6",
   "metadata": {},
   "outputs": [],
   "source": [
    "data.to_csv('10_days.csv')"
   ]
  },
  {
   "cell_type": "markdown",
   "id": "fdd8a80f",
   "metadata": {},
   "source": [
    "## Loading the dataset "
   ]
  },
  {
   "cell_type": "code",
   "execution_count": 5,
   "id": "bab0dbfe",
   "metadata": {},
   "outputs": [
    {
     "data": {
      "text/plain": [
       "(11642, 15)"
      ]
     },
     "execution_count": 5,
     "metadata": {},
     "output_type": "execute_result"
    }
   ],
   "source": [
    "df= pd.read_csv('15_days.csv')\n",
    "df = df.loc[:, ~df.columns.str.contains('^Unnamed')]\n",
    "df.shape"
   ]
  },
  {
   "cell_type": "code",
   "execution_count": 6,
   "id": "142b0183",
   "metadata": {},
   "outputs": [
    {
     "data": {
      "text/plain": [
       "0    6000\n",
       "1    5642\n",
       "Name: failure, dtype: int64"
      ]
     },
     "execution_count": 6,
     "metadata": {},
     "output_type": "execute_result"
    }
   ],
   "source": [
    "df['failure'].value_counts()"
   ]
  },
  {
   "cell_type": "code",
   "execution_count": 7,
   "id": "408953ed",
   "metadata": {},
   "outputs": [
    {
     "data": {
      "text/html": [
       "<div>\n",
       "<style scoped>\n",
       "    .dataframe tbody tr th:only-of-type {\n",
       "        vertical-align: middle;\n",
       "    }\n",
       "\n",
       "    .dataframe tbody tr th {\n",
       "        vertical-align: top;\n",
       "    }\n",
       "\n",
       "    .dataframe thead th {\n",
       "        text-align: right;\n",
       "    }\n",
       "</style>\n",
       "<table border=\"1\" class=\"dataframe\">\n",
       "  <thead>\n",
       "    <tr style=\"text-align: right;\">\n",
       "      <th></th>\n",
       "      <th>date</th>\n",
       "      <th>serial_number</th>\n",
       "      <th>model</th>\n",
       "      <th>failure</th>\n",
       "      <th>smart_5_raw</th>\n",
       "      <th>smart_9_raw</th>\n",
       "      <th>smart_187_raw</th>\n",
       "      <th>smart_188_raw</th>\n",
       "      <th>smart_193_raw</th>\n",
       "      <th>smart_194_raw</th>\n",
       "      <th>smart_197_raw</th>\n",
       "      <th>smart_198_raw</th>\n",
       "      <th>smart_241_raw</th>\n",
       "      <th>smart_242_raw</th>\n",
       "      <th>capacity_tb</th>\n",
       "    </tr>\n",
       "  </thead>\n",
       "  <tbody>\n",
       "    <tr>\n",
       "      <th>0</th>\n",
       "      <td>2019-01-01</td>\n",
       "      <td>ZA18197Z</td>\n",
       "      <td>ST8000NM0055</td>\n",
       "      <td>1</td>\n",
       "      <td>29616.0</td>\n",
       "      <td>12419.0</td>\n",
       "      <td>112.0</td>\n",
       "      <td>0.000000e+00</td>\n",
       "      <td>4899.0</td>\n",
       "      <td>41.0</td>\n",
       "      <td>0.0</td>\n",
       "      <td>0.0</td>\n",
       "      <td>3.950897e+10</td>\n",
       "      <td>8.143129e+10</td>\n",
       "      <td>8.001563</td>\n",
       "    </tr>\n",
       "    <tr>\n",
       "      <th>1</th>\n",
       "      <td>2019-01-01</td>\n",
       "      <td>S300YTAY</td>\n",
       "      <td>ST4000DM000</td>\n",
       "      <td>1</td>\n",
       "      <td>760.0</td>\n",
       "      <td>31801.0</td>\n",
       "      <td>0.0</td>\n",
       "      <td>0.000000e+00</td>\n",
       "      <td>36331.0</td>\n",
       "      <td>19.0</td>\n",
       "      <td>0.0</td>\n",
       "      <td>0.0</td>\n",
       "      <td>5.381062e+10</td>\n",
       "      <td>1.178197e+11</td>\n",
       "      <td>4.000787</td>\n",
       "    </tr>\n",
       "    <tr>\n",
       "      <th>2</th>\n",
       "      <td>2019-01-01</td>\n",
       "      <td>S300ZREZ</td>\n",
       "      <td>ST4000DM000</td>\n",
       "      <td>1</td>\n",
       "      <td>40.0</td>\n",
       "      <td>30678.0</td>\n",
       "      <td>51.0</td>\n",
       "      <td>0.000000e+00</td>\n",
       "      <td>35093.0</td>\n",
       "      <td>25.0</td>\n",
       "      <td>24.0</td>\n",
       "      <td>24.0</td>\n",
       "      <td>5.472184e+10</td>\n",
       "      <td>1.305077e+11</td>\n",
       "      <td>4.000787</td>\n",
       "    </tr>\n",
       "    <tr>\n",
       "      <th>3</th>\n",
       "      <td>2019-01-01</td>\n",
       "      <td>ZA180YM3</td>\n",
       "      <td>ST8000NM0055</td>\n",
       "      <td>1</td>\n",
       "      <td>0.0</td>\n",
       "      <td>12921.0</td>\n",
       "      <td>0.0</td>\n",
       "      <td>0.000000e+00</td>\n",
       "      <td>11607.0</td>\n",
       "      <td>43.0</td>\n",
       "      <td>0.0</td>\n",
       "      <td>0.0</td>\n",
       "      <td>4.250631e+10</td>\n",
       "      <td>9.330213e+10</td>\n",
       "      <td>8.001563</td>\n",
       "    </tr>\n",
       "    <tr>\n",
       "      <th>4</th>\n",
       "      <td>2019-01-02</td>\n",
       "      <td>ZDEB35E7</td>\n",
       "      <td>ST500LM030</td>\n",
       "      <td>1</td>\n",
       "      <td>0.0</td>\n",
       "      <td>3204.0</td>\n",
       "      <td>0.0</td>\n",
       "      <td>8.590066e+09</td>\n",
       "      <td>8.0</td>\n",
       "      <td>36.0</td>\n",
       "      <td>0.0</td>\n",
       "      <td>0.0</td>\n",
       "      <td>1.740791e+10</td>\n",
       "      <td>5.154608e+09</td>\n",
       "      <td>0.500108</td>\n",
       "    </tr>\n",
       "  </tbody>\n",
       "</table>\n",
       "</div>"
      ],
      "text/plain": [
       "         date serial_number         model  failure  smart_5_raw  smart_9_raw  \\\n",
       "0  2019-01-01      ZA18197Z  ST8000NM0055        1      29616.0      12419.0   \n",
       "1  2019-01-01      S300YTAY   ST4000DM000        1        760.0      31801.0   \n",
       "2  2019-01-01      S300ZREZ   ST4000DM000        1         40.0      30678.0   \n",
       "3  2019-01-01      ZA180YM3  ST8000NM0055        1          0.0      12921.0   \n",
       "4  2019-01-02      ZDEB35E7    ST500LM030        1          0.0       3204.0   \n",
       "\n",
       "   smart_187_raw  smart_188_raw  smart_193_raw  smart_194_raw  smart_197_raw  \\\n",
       "0          112.0   0.000000e+00         4899.0           41.0            0.0   \n",
       "1            0.0   0.000000e+00        36331.0           19.0            0.0   \n",
       "2           51.0   0.000000e+00        35093.0           25.0           24.0   \n",
       "3            0.0   0.000000e+00        11607.0           43.0            0.0   \n",
       "4            0.0   8.590066e+09            8.0           36.0            0.0   \n",
       "\n",
       "   smart_198_raw  smart_241_raw  smart_242_raw  capacity_tb  \n",
       "0            0.0   3.950897e+10   8.143129e+10     8.001563  \n",
       "1            0.0   5.381062e+10   1.178197e+11     4.000787  \n",
       "2           24.0   5.472184e+10   1.305077e+11     4.000787  \n",
       "3            0.0   4.250631e+10   9.330213e+10     8.001563  \n",
       "4            0.0   1.740791e+10   5.154608e+09     0.500108  "
      ]
     },
     "execution_count": 7,
     "metadata": {},
     "output_type": "execute_result"
    }
   ],
   "source": [
    "df.head()"
   ]
  },
  {
   "cell_type": "markdown",
   "id": "8b9831d2",
   "metadata": {},
   "source": [
    "### Encoding the categorical feature 'model'"
   ]
  },
  {
   "cell_type": "code",
   "execution_count": 8,
   "id": "24539632",
   "metadata": {},
   "outputs": [],
   "source": [
    "from sklearn.preprocessing import LabelEncoder\n",
    "\n",
    "encoder= LabelEncoder()\n",
    "model = encoder.fit_transform(df['model'])"
   ]
  },
  {
   "cell_type": "code",
   "execution_count": 9,
   "id": "d17c0d2d",
   "metadata": {},
   "outputs": [],
   "source": [
    "df['model']=model"
   ]
  },
  {
   "cell_type": "markdown",
   "id": "9e3e4715",
   "metadata": {},
   "source": [
    "### Removing date, serial number columns"
   ]
  },
  {
   "cell_type": "code",
   "execution_count": 10,
   "id": "7b8df3c6",
   "metadata": {},
   "outputs": [],
   "source": [
    "y=df['failure']\n",
    "X= df.drop(['date','serial_number','failure'],axis=1)"
   ]
  },
  {
   "cell_type": "code",
   "execution_count": 11,
   "id": "b0f29bfe",
   "metadata": {},
   "outputs": [
    {
     "data": {
      "text/html": [
       "<div>\n",
       "<style scoped>\n",
       "    .dataframe tbody tr th:only-of-type {\n",
       "        vertical-align: middle;\n",
       "    }\n",
       "\n",
       "    .dataframe tbody tr th {\n",
       "        vertical-align: top;\n",
       "    }\n",
       "\n",
       "    .dataframe thead th {\n",
       "        text-align: right;\n",
       "    }\n",
       "</style>\n",
       "<table border=\"1\" class=\"dataframe\">\n",
       "  <thead>\n",
       "    <tr style=\"text-align: right;\">\n",
       "      <th></th>\n",
       "      <th>model</th>\n",
       "      <th>smart_5_raw</th>\n",
       "      <th>smart_9_raw</th>\n",
       "      <th>smart_187_raw</th>\n",
       "      <th>smart_188_raw</th>\n",
       "      <th>smart_193_raw</th>\n",
       "      <th>smart_194_raw</th>\n",
       "      <th>smart_197_raw</th>\n",
       "      <th>smart_198_raw</th>\n",
       "      <th>smart_241_raw</th>\n",
       "      <th>smart_242_raw</th>\n",
       "      <th>capacity_tb</th>\n",
       "    </tr>\n",
       "  </thead>\n",
       "  <tbody>\n",
       "    <tr>\n",
       "      <th>0</th>\n",
       "      <td>7</td>\n",
       "      <td>29616.0</td>\n",
       "      <td>12419.0</td>\n",
       "      <td>112.0</td>\n",
       "      <td>0.000000e+00</td>\n",
       "      <td>4899.0</td>\n",
       "      <td>41.0</td>\n",
       "      <td>0.0</td>\n",
       "      <td>0.0</td>\n",
       "      <td>3.950897e+10</td>\n",
       "      <td>8.143129e+10</td>\n",
       "      <td>8.001563</td>\n",
       "    </tr>\n",
       "    <tr>\n",
       "      <th>1</th>\n",
       "      <td>2</td>\n",
       "      <td>760.0</td>\n",
       "      <td>31801.0</td>\n",
       "      <td>0.0</td>\n",
       "      <td>0.000000e+00</td>\n",
       "      <td>36331.0</td>\n",
       "      <td>19.0</td>\n",
       "      <td>0.0</td>\n",
       "      <td>0.0</td>\n",
       "      <td>5.381062e+10</td>\n",
       "      <td>1.178197e+11</td>\n",
       "      <td>4.000787</td>\n",
       "    </tr>\n",
       "    <tr>\n",
       "      <th>2</th>\n",
       "      <td>2</td>\n",
       "      <td>40.0</td>\n",
       "      <td>30678.0</td>\n",
       "      <td>51.0</td>\n",
       "      <td>0.000000e+00</td>\n",
       "      <td>35093.0</td>\n",
       "      <td>25.0</td>\n",
       "      <td>24.0</td>\n",
       "      <td>24.0</td>\n",
       "      <td>5.472184e+10</td>\n",
       "      <td>1.305077e+11</td>\n",
       "      <td>4.000787</td>\n",
       "    </tr>\n",
       "    <tr>\n",
       "      <th>3</th>\n",
       "      <td>7</td>\n",
       "      <td>0.0</td>\n",
       "      <td>12921.0</td>\n",
       "      <td>0.0</td>\n",
       "      <td>0.000000e+00</td>\n",
       "      <td>11607.0</td>\n",
       "      <td>43.0</td>\n",
       "      <td>0.0</td>\n",
       "      <td>0.0</td>\n",
       "      <td>4.250631e+10</td>\n",
       "      <td>9.330213e+10</td>\n",
       "      <td>8.001563</td>\n",
       "    </tr>\n",
       "    <tr>\n",
       "      <th>4</th>\n",
       "      <td>3</td>\n",
       "      <td>0.0</td>\n",
       "      <td>3204.0</td>\n",
       "      <td>0.0</td>\n",
       "      <td>8.590066e+09</td>\n",
       "      <td>8.0</td>\n",
       "      <td>36.0</td>\n",
       "      <td>0.0</td>\n",
       "      <td>0.0</td>\n",
       "      <td>1.740791e+10</td>\n",
       "      <td>5.154608e+09</td>\n",
       "      <td>0.500108</td>\n",
       "    </tr>\n",
       "  </tbody>\n",
       "</table>\n",
       "</div>"
      ],
      "text/plain": [
       "   model  smart_5_raw  smart_9_raw  smart_187_raw  smart_188_raw  \\\n",
       "0      7      29616.0      12419.0          112.0   0.000000e+00   \n",
       "1      2        760.0      31801.0            0.0   0.000000e+00   \n",
       "2      2         40.0      30678.0           51.0   0.000000e+00   \n",
       "3      7          0.0      12921.0            0.0   0.000000e+00   \n",
       "4      3          0.0       3204.0            0.0   8.590066e+09   \n",
       "\n",
       "   smart_193_raw  smart_194_raw  smart_197_raw  smart_198_raw  smart_241_raw  \\\n",
       "0         4899.0           41.0            0.0            0.0   3.950897e+10   \n",
       "1        36331.0           19.0            0.0            0.0   5.381062e+10   \n",
       "2        35093.0           25.0           24.0           24.0   5.472184e+10   \n",
       "3        11607.0           43.0            0.0            0.0   4.250631e+10   \n",
       "4            8.0           36.0            0.0            0.0   1.740791e+10   \n",
       "\n",
       "   smart_242_raw  capacity_tb  \n",
       "0   8.143129e+10     8.001563  \n",
       "1   1.178197e+11     4.000787  \n",
       "2   1.305077e+11     4.000787  \n",
       "3   9.330213e+10     8.001563  \n",
       "4   5.154608e+09     0.500108  "
      ]
     },
     "execution_count": 11,
     "metadata": {},
     "output_type": "execute_result"
    }
   ],
   "source": [
    "X.head()"
   ]
  },
  {
   "cell_type": "code",
   "execution_count": 12,
   "id": "3c1ad176",
   "metadata": {},
   "outputs": [],
   "source": [
    "X_train, X_test, y_train, y_test = train_test_split(X, y, test_size=0.2)"
   ]
  },
  {
   "cell_type": "markdown",
   "id": "2074fa58",
   "metadata": {},
   "source": [
    "### Normalizing the dataset"
   ]
  },
  {
   "cell_type": "code",
   "execution_count": 61,
   "id": "5ce73b60",
   "metadata": {},
   "outputs": [],
   "source": [
    "normm= Normalizer()\n",
    "normm.fit(X_train['model'].values.reshape(-1,1))\n",
    "X_tr_m= csr_matrix(normm.transform(X_train['model'].values.reshape(-1,1)))\n",
    "X_te_m= csr_matrix(normm.transform(X_test['model'].values.reshape(-1,1)))\n",
    "\n",
    "normcp= Normalizer()\n",
    "normcp.fit(X_train['capacity_tb'].values.reshape(-1,1))\n",
    "X_tr_cp= csr_matrix(normcp.transform(X_train['capacity_tb'].values.reshape(-1,1)))\n",
    "X_te_cp= csr_matrix(normcp.transform(X_test['capacity_tb'].values.reshape(-1,1)))\n",
    "\n",
    "norm5= Normalizer()\n",
    "norm5.fit(X_train['smart_5_raw'].values.reshape(-1,1))\n",
    "X_tr_5= csr_matrix(norm5.transform(X_train['smart_5_raw'].values.reshape(-1,1)))\n",
    "X_te_5= csr_matrix(norm5.transform(X_test['smart_5_raw'].values.reshape(-1,1)))\n",
    "\n",
    "norm9= Normalizer()\n",
    "norm9.fit(X_train['smart_9_raw'].values.reshape(-1,1))\n",
    "X_tr_9= csr_matrix(norm9.transform(X_train['smart_9_raw'].values.reshape(-1,1)))\n",
    "X_te_9= csr_matrix(norm9.transform(X_test['smart_9_raw'].values.reshape(-1,1)))\n",
    "\n",
    "norm187= Normalizer()\n",
    "norm187.fit(X_train['smart_187_raw'].values.reshape(-1,1))\n",
    "X_tr_187= csr_matrix(norm187.transform(X_train['smart_187_raw'].values.reshape(-1,1)))\n",
    "X_te_187= csr_matrix(norm187.transform(X_test['smart_187_raw'].values.reshape(-1,1)))\n",
    "\n",
    "norm188= Normalizer()\n",
    "norm188.fit(X_train['smart_188_raw'].values.reshape(-1,1))\n",
    "X_tr_188= csr_matrix(norm188.transform(X_train['smart_188_raw'].values.reshape(-1,1)))\n",
    "X_te_188= csr_matrix(norm188.transform(X_test['smart_188_raw'].values.reshape(-1,1)))\n",
    "\n",
    "norm193= Normalizer()\n",
    "norm193.fit(X_train['smart_193_raw'].values.reshape(-1,1))\n",
    "X_tr_193= csr_matrix(norm193.transform(X_train['smart_193_raw'].values.reshape(-1,1)))\n",
    "X_te_193= csr_matrix(norm193.transform(X_test['smart_193_raw'].values.reshape(-1,1)))\n",
    "\n",
    "norm194= Normalizer()\n",
    "norm194.fit(X_train['smart_194_raw'].values.reshape(-1,1))\n",
    "X_tr_194= csr_matrix(norm194.transform(X_train['smart_194_raw'].values.reshape(-1,1)))\n",
    "X_te_194= csr_matrix(norm194.transform(X_test['smart_194_raw'].values.reshape(-1,1)))\n",
    "\n",
    "norm197= Normalizer()\n",
    "norm197.fit(X_train['smart_197_raw'].values.reshape(-1,1))\n",
    "X_tr_197= csr_matrix(norm197.transform(X_train['smart_197_raw'].values.reshape(-1,1)))\n",
    "X_te_197= csr_matrix(norm197.transform(X_test['smart_197_raw'].values.reshape(-1,1)))\n",
    "\n",
    "norm198= Normalizer()\n",
    "norm198.fit(X_train['smart_198_raw'].values.reshape(-1,1))\n",
    "X_tr_198= csr_matrix(norm197.transform(X_train['smart_198_raw'].values.reshape(-1,1)))\n",
    "X_te_198= csr_matrix(norm197.transform(X_test['smart_198_raw'].values.reshape(-1,1)))\n",
    "\n",
    "norm241= Normalizer()\n",
    "norm241.fit(X_train['smart_241_raw'].values.reshape(-1,1))\n",
    "X_tr_241= csr_matrix(norm241.transform(X_train['smart_241_raw'].values.reshape(-1,1)))\n",
    "X_te_241= csr_matrix(norm241.transform(X_test['smart_241_raw'].values.reshape(-1,1)))\n",
    "\n",
    "norm242= Normalizer()\n",
    "norm242.fit(X_train['smart_242_raw'].values.reshape(-1,1))\n",
    "X_tr_242= csr_matrix(norm187.transform(X_train['smart_242_raw'].values.reshape(-1,1)))\n",
    "X_te_242= csr_matrix(norm187.transform(X_test['smart_242_raw'].values.reshape(-1,1)))"
   ]
  },
  {
   "cell_type": "code",
   "execution_count": 62,
   "id": "43d477d3",
   "metadata": {},
   "outputs": [],
   "source": [
    "X_tr_enc= hstack((X_tr_m,X_tr_cp,X_tr_5,X_tr_9,X_tr_187,X_tr_188,X_tr_193,X_tr_194,X_tr_197,X_tr_198,X_tr_241,X_tr_242)).tocsr()\n",
    "X_te_enc= hstack((X_te_m,X_te_cp,X_te_5,X_te_9,X_te_187,X_te_188,X_te_193,X_te_194,X_te_197,X_te_198,X_te_241,X_te_242)).tocsr()"
   ]
  },
  {
   "cell_type": "markdown",
   "id": "6b01c27d",
   "metadata": {},
   "source": [
    "## K-NN Classifier"
   ]
  },
  {
   "cell_type": "code",
   "execution_count": 73,
   "id": "f1f41a9b",
   "metadata": {},
   "outputs": [
    {
     "data": {
      "text/plain": [
       "GridSearchCV(cv=5, estimator=KNeighborsClassifier(),\n",
       "             param_grid={'n_neighbors': [3, 5, 7, 9, 11, 13, 15, 17, 19, 21, 23,\n",
       "                                         25, 27, 29, 31, 33, 35, 37, 39, 41, 43,\n",
       "                                         45]},\n",
       "             scoring='roc_auc')"
      ]
     },
     "execution_count": 73,
     "metadata": {},
     "output_type": "execute_result"
    }
   ],
   "source": [
    "k_range = list([3,5,7,9,11,13,15,17,19,21,23,25,27,29,31,33,35,37,39,41,43,45])\n",
    "param_grid = dict(n_neighbors=k_range)\n",
    "knn= KNeighborsClassifier()\n",
    "clf_knn = GridSearchCV(knn, param_grid, scoring = 'roc_auc', cv=5)\n",
    "clf_knn.fit(X_tr_enc, y_train)"
   ]
  },
  {
   "cell_type": "code",
   "execution_count": 74,
   "id": "68911e0c",
   "metadata": {},
   "outputs": [
    {
     "name": "stdout",
     "output_type": "stream",
     "text": [
      "KNeighborsClassifier(n_neighbors=35)\n",
      "Best Hyper-parameter: {'n_neighbors': 35}\n",
      "0.5916847751633096\n"
     ]
    }
   ],
   "source": [
    "print(clf_knn.best_estimator_)\n",
    "print('Best Hyper-parameter:',clf_knn.best_params_)\n",
    "print(clf_knn.best_score_)"
   ]
  },
  {
   "cell_type": "code",
   "execution_count": 75,
   "id": "056a2a95",
   "metadata": {},
   "outputs": [
    {
     "data": {
      "image/png": "[encoded data removed]",
      "text/plain": [
       "<Figure size 432x288 with 1 Axes>"
      ]
     },
     "metadata": {
      "needs_background": "light"
     },
     "output_type": "display_data"
    }
   ],
   "source": [
    "knn_best = KNeighborsClassifier(n_neighbors=35)\n",
    "knn_best.fit(X_tr_enc, y_train)\n",
    "\n",
    "y_score_train = knn_best.predict_proba(X_tr_enc)[:,1]\n",
    "y_score_test = knn_best.predict_proba(X_te_enc)[:,1]\n",
    "    \n",
    "train_fpr, train_tpr, tr_thresholds = roc_curve(y_train, y_score_train)\n",
    "test_fpr, test_tpr, te_thresholds = roc_curve(y_test, y_score_test)\n",
    "\n",
    "plt.plot(train_fpr, train_tpr, label=\"train AUC =\"+str(auc(train_fpr, train_tpr)))\n",
    "plt.plot(test_fpr, test_tpr, label=\"test AUC =\"+str(auc(test_fpr, test_tpr)))\n",
    "plt.legend()\n",
    "plt.xlabel(\"False Positive Rate(FPR)\")\n",
    "plt.ylabel(\"True Positive Rate(TPR)\")\n",
    "plt.title(\"ERROR PLOTS\")\n",
    "plt.grid(color='black', linestyle='-', linewidth=0.3)\n",
    "plt.show()"
   ]
  },
  {
   "cell_type": "code",
   "execution_count": 76,
   "id": "8464e9d8",
   "metadata": {},
   "outputs": [
    {
     "data": {
      "text/plain": [
       "0.5766423357664233"
      ]
     },
     "execution_count": 76,
     "metadata": {},
     "output_type": "execute_result"
    }
   ],
   "source": [
    "knn_best.score(X_te_enc,y_test)"
   ]
  },
  {
   "cell_type": "markdown",
   "id": "eee85bb9",
   "metadata": {},
   "source": [
    "### Performance Metrics for K-NN"
   ]
  },
  {
   "cell_type": "code",
   "execution_count": 77,
   "id": "ca5f7f11",
   "metadata": {},
   "outputs": [
    {
     "data": {
      "image/png": "[encoded data removed]",
      "text/plain": [
       "<Figure size 432x288 with 2 Axes>"
      ]
     },
     "metadata": {
      "needs_background": "light"
     },
     "output_type": "display_data"
    },
    {
     "data": {
      "image/png": "[encoded data removed]",
      "text/plain": [
       "<Figure size 432x288 with 2 Axes>"
      ]
     },
     "metadata": {
      "needs_background": "light"
     },
     "output_type": "display_data"
    }
   ],
   "source": [
    "y_train_pred = knn_best.predict(X_tr_enc)\n",
    "y_test_pred = knn_best.predict(X_te_enc)\n",
    "cmtr= confusion_matrix(y_train_pred, y_train)\n",
    "sns.heatmap(cmtr,annot= True,fmt='0.1f',xticklabels=['PREDICTED : NO', 'PREDICTED : YES'], yticklabels=['ACTUAL : NO', 'ACTUAL : YES'])\n",
    "plt.title('Confusion Matrix for Train:')\n",
    "plt.show()\n",
    "cmte= confusion_matrix(y_test_pred, y_test)\n",
    "sns.heatmap(cmte,annot= True,fmt='0.1f',xticklabels=['PREDICTED : NO', 'PREDICTED : YES'], yticklabels=['ACTUAL : NO', 'ACTUAL : YES'])\n",
    "plt.title('Confusion Matrix for Test:')\n",
    "plt.show()"
   ]
  },
  {
   "cell_type": "code",
   "execution_count": 78,
   "id": "44601434",
   "metadata": {},
   "outputs": [
    {
     "name": "stdout",
     "output_type": "stream",
     "text": [
      "Accuracy score(Train): 0.5621174702029421\n",
      "Accuracy score(Test): 0.5766423357664233\n",
      "ROC-AUC score(Train): 0.5583360338651304\n",
      "ROC-AUC score(Test): 0.5729993356953057\n",
      "F1 score(Train): 0.4908863920099875\n",
      "F1 score(Test): 0.5094527363184079\n",
      "Precision score(Train): 0.5621961681441235\n",
      "Precision score(Test): 0.5811577752553916\n",
      "Recall score(Train): 0.4356304010635941\n",
      "Recall score(Test): 0.4534986713906112\n"
     ]
    }
   ],
   "source": [
    "acc_train_knn= accuracy_score(y_train,y_train_pred)\n",
    "acc_test_knn= accuracy_score(y_test,y_test_pred)\n",
    "auc_train_knn= roc_auc_score(y_train,y_train_pred)\n",
    "auc_test_knn= roc_auc_score(y_test,y_test_pred)\n",
    "f1_train_knn= f1_score(y_train,y_train_pred)\n",
    "f1_test_knn= f1_score(y_test,y_test_pred)\n",
    "pr_train_knn= precision_score(y_train,y_train_pred) \n",
    "pr_test_knn= precision_score(y_test,y_test_pred)\n",
    "re_train_knn= recall_score(y_train,y_train_pred)\n",
    "re_test_knn= recall_score(y_test,y_test_pred)\n",
    "\n",
    "print('Accuracy score(Train):',acc_train_knn)\n",
    "print('Accuracy score(Test):',acc_test_knn)\n",
    "print('ROC-AUC score(Train):',auc_train_knn)\n",
    "print('ROC-AUC score(Test):',auc_test_knn)\n",
    "print('F1 score(Train):',f1_train_knn)\n",
    "print('F1 score(Test):',f1_test_knn)\n",
    "print('Precision score(Train):',pr_train_knn)\n",
    "print('Precision score(Test):',pr_test_knn)\n",
    "print('Recall score(Train):',re_train_knn)\n",
    "print('Recall score(Test):',re_test_knn)"
   ]
  },
  {
   "cell_type": "markdown",
   "id": "ecdf2b45",
   "metadata": {},
   "source": [
    "## Logisitic Regression"
   ]
  },
  {
   "cell_type": "code",
   "execution_count": 81,
   "id": "c18feed7",
   "metadata": {},
   "outputs": [
    {
     "data": {
      "text/plain": [
       "GridSearchCV(cv=3, estimator=LogisticRegression(),\n",
       "             param_grid=[{'C': [0.01, 0.1, 1, 10, 20]}], scoring='roc_auc')"
      ]
     },
     "execution_count": 81,
     "metadata": {},
     "output_type": "execute_result"
    }
   ],
   "source": [
    "from sklearn.linear_model import LogisticRegression\n",
    "\n",
    "tuned_parameters = [{'C': [0.01,0.1,1,10,20]}]\n",
    "lr = GridSearchCV(LogisticRegression(), tuned_parameters, scoring = 'roc_auc', cv=3)\n",
    "lr.fit(X_tr_enc, y_train)"
   ]
  },
  {
   "cell_type": "code",
   "execution_count": 82,
   "id": "3dc2dfcc",
   "metadata": {},
   "outputs": [
    {
     "name": "stdout",
     "output_type": "stream",
     "text": [
      "LogisticRegression(C=1)\n",
      "Best Hyper-parameter: {'C': 1}\n"
     ]
    }
   ],
   "source": [
    "print(lr.best_estimator_)\n",
    "best_p=lr.best_params_\n",
    "print('Best Hyper-parameter:',lr.best_params_)"
   ]
  },
  {
   "cell_type": "code",
   "execution_count": 83,
   "id": "63b360d3",
   "metadata": {},
   "outputs": [
    {
     "data": {
      "image/png": "[encoded data removed]",
      "text/plain": [
       "<Figure size 432x288 with 1 Axes>"
      ]
     },
     "metadata": {
      "needs_background": "light"
     },
     "output_type": "display_data"
    }
   ],
   "source": [
    "tuned_parameters = [{'C': [1]}]\n",
    "lr_best = GridSearchCV(LogisticRegression(), tuned_parameters, scoring = 'roc_auc', cv=3)\n",
    "lr_best.fit(X_tr_enc, y_train)\n",
    "\n",
    "y_score_train = lr_best.predict_proba(X_tr_enc)[:,1]\n",
    "y_score_test = lr_best.predict_proba(X_te_enc)[:,1]\n",
    "\n",
    "train_fprlr, train_tprlr, tr_thresholdslr = roc_curve(y_train, y_score_train)\n",
    "test_fprlr, test_tprlr, te_thresholdslr = roc_curve(y_test, y_score_test)\n",
    "\n",
    "plt.plot(train_fprlr, train_tprlr, label=\"train AUC =\"+str(auc(train_fprlr, train_tprlr)))\n",
    "plt.plot(test_fprlr, test_tprlr, label=\"test AUC =\"+str(auc(test_fprlr, test_tprlr)))\n",
    "plt.legend()\n",
    "plt.xlabel(\"False Positive Rate(FPR)\")\n",
    "plt.ylabel(\"True Positive Rate(TPR)\")\n",
    "plt.title(\"ERROR PLOTS\")\n",
    "plt.grid(color='black', linestyle='-', linewidth=0.3)\n",
    "plt.show()"
   ]
  },
  {
   "cell_type": "markdown",
   "id": "21e5dbc4",
   "metadata": {},
   "source": [
    "### Performance Metrics of Logistic Regression"
   ]
  },
  {
   "cell_type": "code",
   "execution_count": 85,
   "id": "7d58a399",
   "metadata": {},
   "outputs": [
    {
     "data": {
      "image/png": "[encoded data removed]",
      "text/plain": [
       "<Figure size 432x288 with 2 Axes>"
      ]
     },
     "metadata": {
      "needs_background": "light"
     },
     "output_type": "display_data"
    },
    {
     "data": {
      "image/png": "[encoded data removed]",
      "text/plain": [
       "<Figure size 432x288 with 2 Axes>"
      ]
     },
     "metadata": {
      "needs_background": "light"
     },
     "output_type": "display_data"
    }
   ],
   "source": [
    "y_train_pred = lr_best.predict(X_tr_enc)\n",
    "y_test_pred = lr_best.predict(X_te_enc)\n",
    "cmtr= confusion_matrix(y_train_pred, y_train)\n",
    "sns.heatmap(cmtr,annot= True,fmt='0.1f',xticklabels=['PREDICTED : NO', 'PREDICTED : YES'], yticklabels=['ACTUAL : NO', 'ACTUAL : YES'])\n",
    "plt.title('Confusion Matrix for Train:')\n",
    "plt.show()\n",
    "cmte= confusion_matrix(y_test_pred, y_test)\n",
    "sns.heatmap(cmte,annot= True,fmt='0.1f',xticklabels=['PREDICTED : NO', 'PREDICTED : YES'], yticklabels=['ACTUAL : NO', 'ACTUAL : YES'])\n",
    "plt.title('Confusion Matrix for Test:')\n",
    "plt.show()"
   ]
  },
  {
   "cell_type": "code",
   "execution_count": 86,
   "id": "c0d52396",
   "metadata": {},
   "outputs": [
    {
     "name": "stdout",
     "output_type": "stream",
     "text": [
      "Accuracy score(Train): 0.5798346397508859\n",
      "Accuracy score(Test): 0.5886646629454702\n",
      "ROC-AUC score(Train): 0.5778751892680405\n",
      "ROC-AUC score(Test): 0.5864478151756717\n",
      "F1 score(Train): 0.5426066627703099\n",
      "F1 score(Test): 0.955041466608468\n",
      "Precision score(Train): 0.574220682830282\n",
      "Precision score(Test): 0.5864509605662285\n",
      "Recall score(Train): 0.5142920452027476\n",
      "Recall score(Test): 0.5137289636846767\n"
     ]
    }
   ],
   "source": [
    "acc_train_lr= accuracy_score(y_train,y_train_pred)\n",
    "acc_test_lr= accuracy_score(y_test,y_test_pred)\n",
    "auc_train_lr= roc_auc_score(y_train,y_train_pred)\n",
    "auc_test_lr= roc_auc_score(y_test,y_test_pred)\n",
    "f1_train_lr= f1_score(y_train,y_train_pred)\n",
    "f1_test_lr= f1_score(y_test,y_test_pred)\n",
    "pr_train_lr= precision_score(y_train,y_train_pred) \n",
    "pr_test_lr= precision_score(y_test,y_test_pred)\n",
    "re_train_lr= recall_score(y_train,y_train_pred)\n",
    "re_test_lr= recall_score(y_test,y_test_pred)\n",
    "\n",
    "print('Accuracy score(Train):',acc_train_lr)\n",
    "print('Accuracy score(Test):',acc_test_lr)\n",
    "print('ROC-AUC score(Train):',auc_train_lr)\n",
    "print('ROC-AUC score(Test):',auc_test_lr)\n",
    "print('F1 score(Train):',f1_train_lr)\n",
    "print('F1 score(Test):',f1_test)\n",
    "print('Precision score(Train):',pr_train_lr)\n",
    "print('Precision score(Test):',pr_test_lr)\n",
    "print('Recall score(Train):',re_train_lr)\n",
    "print('Recall score(Test):',re_test_lr)"
   ]
  },
  {
   "cell_type": "markdown",
   "id": "883a837f",
   "metadata": {},
   "source": [
    "## Naive- Bayes Classifier"
   ]
  },
  {
   "cell_type": "code",
   "execution_count": 87,
   "id": "a9b5cd65",
   "metadata": {},
   "outputs": [
    {
     "data": {
      "text/plain": [
       "GridSearchCV(cv=5, estimator=MultinomialNB(),\n",
       "             param_grid={'alpha': [1e-10, 1e-09, 1e-08, 1e-07, 1e-06, 1e-05,\n",
       "                                   0.0001, 0.001, 0.01]},\n",
       "             scoring='roc_auc')"
      ]
     },
     "execution_count": 87,
     "metadata": {},
     "output_type": "execute_result"
    }
   ],
   "source": [
    "parameter = {'alpha':[1e-10,1e-9,1e-8,1e-7,1e-6,1e-5,1e-4,1e-3,1e-2]}\n",
    "nb = MultinomialNB()\n",
    "nb_clf = GridSearchCV(nb, parameter, cv=5,scoring='roc_auc')\n",
    "nb_clf.fit(X_train,y_train)"
   ]
  },
  {
   "cell_type": "code",
   "execution_count": 88,
   "id": "d81501d4",
   "metadata": {},
   "outputs": [
    {
     "name": "stdout",
     "output_type": "stream",
     "text": [
      "MultinomialNB(alpha=1e-10)\n",
      "Best Hyper-parameter: {'alpha': 1e-10}\n"
     ]
    },
    {
     "data": {
      "text/plain": [
       "0.5197978529317157"
      ]
     },
     "execution_count": 88,
     "metadata": {},
     "output_type": "execute_result"
    }
   ],
   "source": [
    "print(nb_clf.best_estimator_)\n",
    "best_par=nb_clf.best_params_\n",
    "print('Best Hyper-parameter:',nb_clf.best_params_)\n",
    "nb_clf.best_score_"
   ]
  },
  {
   "cell_type": "code",
   "execution_count": 89,
   "id": "67680aa8",
   "metadata": {},
   "outputs": [
    {
     "data": {
      "image/png": "[encoded data removed]",
      "text/plain": [
       "<Figure size 432x288 with 1 Axes>"
      ]
     },
     "metadata": {
      "needs_background": "light"
     },
     "output_type": "display_data"
    }
   ],
   "source": [
    "tuned_parameters = [{'alpha': [1e-10]}]\n",
    "nb_best = GridSearchCV(nb, tuned_parameters, scoring = 'roc_auc', cv=3)\n",
    "nb_best.fit(X_train, y_train)\n",
    "\n",
    "\n",
    "y_score1 = nb_best.predict_proba(X_train)[:,1]\n",
    "y_score2 = nb_best.predict_proba(X_test)[:,1]\n",
    "\n",
    "train_fpr, train_tpr, tr_thresholds = roc_curve(y_train, y_score1)\n",
    "test_fpr, test_tpr, te_thresholds = roc_curve(y_test, y_score2)\n",
    "\n",
    "plt.plot(train_fpr, train_tpr, label=\"train AUC =\"+str(auc(train_fpr, train_tpr)))\n",
    "plt.plot(test_fpr, test_tpr, label=\"test AUC =\"+str(auc(test_fpr, test_tpr)))\n",
    "plt.legend()\n",
    "plt.xlabel(\"False Positive Rate(FPR)\")\n",
    "plt.ylabel(\"True Positive Rate(TPR)\")\n",
    "plt.title(\"ERROR PLOTS\")\n",
    "plt.grid(color='black', linestyle='-', linewidth=0.3)\n",
    "plt.show()"
   ]
  },
  {
   "cell_type": "markdown",
   "id": "65204126",
   "metadata": {},
   "source": [
    "### Performance metrics of Naive Bayes"
   ]
  },
  {
   "cell_type": "code",
   "execution_count": 90,
   "id": "bef6be73",
   "metadata": {},
   "outputs": [
    {
     "data": {
      "image/png": "[encoded data removed]",
      "text/plain": [
       "<Figure size 432x288 with 2 Axes>"
      ]
     },
     "metadata": {
      "needs_background": "light"
     },
     "output_type": "display_data"
    },
    {
     "data": {
      "image/png": "[encoded data removed]",
      "text/plain": [
       "<Figure size 432x288 with 2 Axes>"
      ]
     },
     "metadata": {
      "needs_background": "light"
     },
     "output_type": "display_data"
    }
   ],
   "source": [
    "y_train_pred = nb_best.predict(X_train)\n",
    "y_test_pred = nb_best.predict(X_test)\n",
    "cmtr= confusion_matrix(y_train_pred, y_train)\n",
    "sns.heatmap(cmtr,annot= True,fmt='0.1f',xticklabels=['PREDICTED : NO', 'PREDICTED : YES'], yticklabels=['ACTUAL : NO', 'ACTUAL : YES'])\n",
    "plt.title('Confusion Matrix for Train:')\n",
    "plt.show()\n",
    "cmte= confusion_matrix(y_test_pred, y_test)\n",
    "sns.heatmap(cmte,annot= True,fmt='0.1f',xticklabels=['PREDICTED : NO', 'PREDICTED : YES'], yticklabels=['ACTUAL : NO', 'ACTUAL : YES'])\n",
    "plt.title('Confusion Matrix for Test:')\n",
    "plt.show()"
   ]
  },
  {
   "cell_type": "code",
   "execution_count": 91,
   "id": "78a37c1c",
   "metadata": {},
   "outputs": [
    {
     "name": "stdout",
     "output_type": "stream",
     "text": [
      "Accuracy score(Train): 0.5309782025126167\n",
      "Accuracy score(Test): 0.5474452554744526\n",
      "ROC-AUC score(Train): 0.5217086749390649\n",
      "ROC-AUC score(Test): 0.5383510481251845\n",
      "F1 score(Train): 0.3134234517447344\n",
      "F1 score(Test): 0.33959899749373434\n",
      "Precision score(Train): 0.5392103839913467\n",
      "Precision score(Test): 0.5802997858672377\n",
      "Recall score(Train): 0.22091734987812986\n",
      "Recall score(Test): 0.2400354295837024\n"
     ]
    }
   ],
   "source": [
    "acc_train_nb= accuracy_score(y_train,y_train_pred)\n",
    "acc_test_nb= accuracy_score(y_test,y_test_pred)\n",
    "auc_train_nb= roc_auc_score(y_train,y_train_pred)\n",
    "auc_test_nb= roc_auc_score(y_test,y_test_pred)\n",
    "f1_train_nb= f1_score(y_train,y_train_pred)\n",
    "f1_test_nb= f1_score(y_test,y_test_pred)\n",
    "pr_train_nb= precision_score(y_train,y_train_pred) \n",
    "pr_test_nb= precision_score(y_test,y_test_pred)\n",
    "re_train_nb= recall_score(y_train,y_train_pred)\n",
    "re_test_nb= recall_score(y_test,y_test_pred)\n",
    "\n",
    "print('Accuracy score(Train):',acc_train_nb)\n",
    "print('Accuracy score(Test):',acc_test_nb)\n",
    "print('ROC-AUC score(Train):',auc_train_nb)\n",
    "print('ROC-AUC score(Test):',auc_test_nb)\n",
    "print('F1 score(Train):',f1_train_nb)\n",
    "print('F1 score(Test):',f1_test_nb)\n",
    "print('Precision score(Train):',pr_train_nb)\n",
    "print('Precision score(Test):',pr_test_nb)\n",
    "print('Recall score(Train):',re_train_nb)\n",
    "print('Recall score(Test):',re_test_nb)"
   ]
  },
  {
   "cell_type": "markdown",
   "id": "0028ec46",
   "metadata": {},
   "source": [
    "## Decision Tree"
   ]
  },
  {
   "cell_type": "code",
   "execution_count": 92,
   "id": "dc3f66dd",
   "metadata": {},
   "outputs": [],
   "source": [
    "tree = DecisionTreeClassifier(class_weight=\"balanced\")\n",
    "parameters = {'max_depth':[ 5, 10, 20, 30, 40, 50, 100, 120, 150], 'min_samples_split': [1, 2, 5, 10, 50]}\n",
    "clf_dt = GridSearchCV(tree, parameters, cv=7, scoring='roc_auc',return_train_score=True)\n",
    "bt=clf_dt.fit(X_train, y_train)"
   ]
  },
  {
   "cell_type": "code",
   "execution_count": 93,
   "id": "70d516ec",
   "metadata": {},
   "outputs": [
    {
     "name": "stdout",
     "output_type": "stream",
     "text": [
      "DecisionTreeClassifier(class_weight='balanced', max_depth=50,\n",
      "                       min_samples_split=10)\n",
      "0.9993495180589408\n",
      "0.9535662090345438\n",
      "{'max_depth': 50, 'min_samples_split': 10}\n"
     ]
    }
   ],
   "source": [
    "print(bt.best_estimator_)\n",
    "print(bt.score(X_train,y_train))\n",
    "print(bt.score(X_test,y_test))\n",
    "print(bt.best_params_)"
   ]
  },
  {
   "cell_type": "code",
   "execution_count": 94,
   "id": "5e824f47",
   "metadata": {},
   "outputs": [
    {
     "data": {
      "image/png": "[encoded data removed]",
      "text/plain": [
       "<Figure size 432x288 with 1 Axes>"
      ]
     },
     "metadata": {
      "needs_background": "light"
     },
     "output_type": "display_data"
    }
   ],
   "source": [
    "from sklearn.metrics import roc_curve, auc\n",
    "\n",
    "parameters = {'max_depth':[50], 'min_samples_split': [10]}\n",
    "tree = DecisionTreeClassifier(class_weight=\"balanced\")\n",
    "clf_dtb = GridSearchCV(tree, parameters, cv=5, scoring='roc_auc')\n",
    "clf_dtb.fit(X_train, y_train)\n",
    "# roc_auc_score(y_true, y_score) the 2nd parameter should be probability estimates of the positive class\n",
    "# not the predicted outputs\n",
    "\n",
    "y_train_pred = clf_dtb.predict_proba(X_train)[:,1]    \n",
    "y_test_pred = clf_dtb.predict_proba(X_test)[:,1]\n",
    "\n",
    "train_fpr, train_tpr, tr_thresholds = roc_curve(y_train, y_train_pred)\n",
    "test_fpr, test_tpr, te_thresholds = roc_curve(y_test, y_test_pred)\n",
    "\n",
    "plt.plot(train_fpr, train_tpr, label=\"train AUC =\"+str(auc(train_fpr, train_tpr)))\n",
    "plt.plot(test_fpr, test_tpr, label=\"test AUC =\"+str(auc(test_fpr, test_tpr)))\n",
    "plt.legend()\n",
    "plt.xlabel(\"False Positive Rate(FPR)\")\n",
    "plt.ylabel(\"True Positive Rate(TPR)\")\n",
    "plt.title(\"ERROR PLOTS\")\n",
    "plt.grid(color='black', linestyle='-', linewidth=0.3)\n",
    "plt.show()"
   ]
  },
  {
   "cell_type": "code",
   "execution_count": 95,
   "id": "14e5b97c",
   "metadata": {},
   "outputs": [
    {
     "data": {
      "image/png": "[encoded data removed]",
      "text/plain": [
       "<Figure size 432x288 with 2 Axes>"
      ]
     },
     "metadata": {
      "needs_background": "light"
     },
     "output_type": "display_data"
    },
    {
     "data": {
      "image/png": "[encoded data removed]",
      "text/plain": [
       "<Figure size 432x288 with 2 Axes>"
      ]
     },
     "metadata": {
      "needs_background": "light"
     },
     "output_type": "display_data"
    }
   ],
   "source": [
    "y_train_pred = clf_dtb.predict(X_train)\n",
    "y_test_pred = clf_dtb.predict(X_test)\n",
    "cmtr= confusion_matrix(y_train_pred, y_train)\n",
    "sns.heatmap(cmtr,annot= True,fmt='0.1f',xticklabels=['PREDICTED : NO', 'PREDICTED : YES'], yticklabels=['ACTUAL : NO', 'ACTUAL : YES'])\n",
    "plt.title('Confusion Matrix for Train:')\n",
    "plt.show()\n",
    "cmte= confusion_matrix(y_test_pred, y_test)\n",
    "sns.heatmap(cmte,annot= True,fmt='0.1f',xticklabels=['PREDICTED : NO', 'PREDICTED : YES'], yticklabels=['ACTUAL : NO', 'ACTUAL : YES'])\n",
    "plt.title('Confusion Matrix for Test:')\n",
    "plt.show()"
   ]
  },
  {
   "cell_type": "code",
   "execution_count": 96,
   "id": "cfc11cf1",
   "metadata": {},
   "outputs": [
    {
     "name": "stdout",
     "output_type": "stream",
     "text": [
      "Accuracy score(Train): 0.9843229893696983\n",
      "Accuracy score(Test): 0.9325890940317733\n",
      "ROC-AUC score(Train): 0.9844803207400843\n",
      "ROC-AUC score(Test): 0.9328801299084736\n",
      "F1 score(Train): 0.9839171623705661\n",
      "F1 score(Test): 0.9312910284463894\n",
      "Precision score(Train): 0.9783132530120482\n",
      "Precision score(Test): 0.9204152249134948\n",
      "Recall score(Train): 0.9895856414801684\n",
      "Recall score(Test): 0.9424269264836138\n"
     ]
    }
   ],
   "source": [
    "acc_train_dt= accuracy_score(y_train,y_train_pred)\n",
    "acc_test_dt= accuracy_score(y_test,y_test_pred)\n",
    "auc_train_dt= roc_auc_score(y_train,y_train_pred)\n",
    "auc_test_dt= roc_auc_score(y_test,y_test_pred)\n",
    "f1_train_dt= f1_score(y_train,y_train_pred)\n",
    "f1_test_dt= f1_score(y_test,y_test_pred)\n",
    "pr_train_dt= precision_score(y_train,y_train_pred) \n",
    "pr_test_dt= precision_score(y_test,y_test_pred)\n",
    "re_train_dt= recall_score(y_train,y_train_pred)\n",
    "re_test_dt= recall_score(y_test,y_test_pred)\n",
    "\n",
    "print('Accuracy score(Train):',acc_train_dt)\n",
    "print('Accuracy score(Test):',acc_test_dt)\n",
    "print('ROC-AUC score(Train):',auc_train_dt)\n",
    "print('ROC-AUC score(Test):',auc_test_dt)\n",
    "print('F1 score(Train):',f1_train_dt)\n",
    "print('F1 score(Test):',f1_test_dt)\n",
    "print('Precision score(Train):',pr_train_dt)\n",
    "print('Precision score(Test):',pr_test_dt)\n",
    "print('Recall score(Train):',re_train_dt)\n",
    "print('Recall score(Test):',re_test_dt)"
   ]
  },
  {
   "cell_type": "markdown",
   "id": "c96a2520",
   "metadata": {},
   "source": [
    "## Random Forest"
   ]
  },
  {
   "cell_type": "code",
   "execution_count": 111,
   "id": "5f0ef045",
   "metadata": {},
   "outputs": [
    {
     "data": {
      "text/plain": [
       "0.9835516995564071"
      ]
     },
     "execution_count": 111,
     "metadata": {},
     "output_type": "execute_result"
    }
   ],
   "source": [
    "\n",
    "param_dist = {\"n_estimators\":list(range(100,120)),\n",
    "              \"min_samples_split\": list(range(1,20)),\n",
    "              \"min_samples_leaf\": list(range(1,10))}\n",
    "\n",
    "clf = RandomForestClassifier()\n",
    "\n",
    "rf_clf = RandomizedSearchCV(clf, param_distributions=param_dist,n_iter=3,cv=7,scoring='roc_auc')\n",
    "\n",
    "rf_clf.fit(X_train,y_train)\n",
    "rf_clf.best_score_"
   ]
  },
  {
   "cell_type": "code",
   "execution_count": 112,
   "id": "548d287d",
   "metadata": {},
   "outputs": [
    {
     "name": "stdout",
     "output_type": "stream",
     "text": [
      "RandomForestClassifier(min_samples_leaf=4, min_samples_split=13,\n",
      "                       n_estimators=106)\n",
      "Best Hyper-parameter: {'n_estimators': 106, 'min_samples_split': 13, 'min_samples_leaf': 4}\n"
     ]
    }
   ],
   "source": [
    "print(rf_clf.best_estimator_)\n",
    "best_p= rf_clf.best_params_\n",
    "print('Best Hyper-parameter:',rf_clf.best_params_)"
   ]
  },
  {
   "cell_type": "code",
   "execution_count": 107,
   "id": "bbc179b8",
   "metadata": {},
   "outputs": [],
   "source": [
    "rf_best=RandomForestClassifier(min_samples_leaf=2, min_samples_split=3,\n",
    "                       n_estimators=102)"
   ]
  },
  {
   "cell_type": "code",
   "execution_count": 108,
   "id": "9a8143c6",
   "metadata": {},
   "outputs": [
    {
     "data": {
      "image/png": "[encoded data removed]",
      "text/plain": [
       "<Figure size 432x288 with 1 Axes>"
      ]
     },
     "metadata": {
      "needs_background": "light"
     },
     "output_type": "display_data"
    }
   ],
   "source": [
    "rf_best.fit(X_train, y_train)\n",
    "\n",
    "y_score1 = rf_best.predict_proba(X_train)[:,1]\n",
    "y_score2 = rf_best.predict_proba(X_test)[:,1]\n",
    "    \n",
    "train_fpr, train_tpr, tr_thresholds = roc_curve(y_train, y_score1)\n",
    "test_fpr, test_tpr, te_thresholds = roc_curve(y_test, y_score2)\n",
    "\n",
    "plt.plot(train_fpr, train_tpr, label=\"train AUC =\"+str(auc(train_fpr, train_tpr)))\n",
    "plt.plot(test_fpr, test_tpr, label=\"test AUC =\"+str(auc(test_fpr, test_tpr)))\n",
    "plt.legend()\n",
    "plt.xlabel(\"False Positive Rate(FPR)\")\n",
    "plt.ylabel(\"True Positive Rate(TPR)\")\n",
    "plt.title(\"ERROR PLOTS\")\n",
    "plt.grid(color='black', linestyle='-', linewidth=0.3)\n",
    "plt.show()"
   ]
  },
  {
   "cell_type": "markdown",
   "id": "40065934",
   "metadata": {},
   "source": [
    "### Performance metrics of Random Forest"
   ]
  },
  {
   "cell_type": "code",
   "execution_count": 109,
   "id": "af4d0c93",
   "metadata": {},
   "outputs": [
    {
     "data": {
      "image/png": "[encoded data removed]",
      "text/plain": [
       "<Figure size 432x288 with 2 Axes>"
      ]
     },
     "metadata": {
      "needs_background": "light"
     },
     "output_type": "display_data"
    },
    {
     "data": {
      "image/png": "[encoded data removed]",
      "text/plain": [
       "<Figure size 432x288 with 2 Axes>"
      ]
     },
     "metadata": {
      "needs_background": "light"
     },
     "output_type": "display_data"
    }
   ],
   "source": [
    "y_train_pred = rf_best.predict(X_train)\n",
    "y_test_pred = rf_best.predict(X_test)\n",
    "cmtr= confusion_matrix(y_train_pred, y_train)\n",
    "sns.heatmap(cmtr,annot= True,fmt='0.1f',xticklabels=['PREDICTED : NO', 'PREDICTED : YES'], yticklabels=['ACTUAL : NO', 'ACTUAL : YES'])\n",
    "plt.title('Confusion Matrix for Train:')\n",
    "plt.show()\n",
    "cmte= confusion_matrix(y_test_pred, y_test)\n",
    "sns.heatmap(cmte,annot= True,fmt='0.1f',xticklabels=['PREDICTED : NO', 'PREDICTED : YES'], yticklabels=['ACTUAL : NO', 'ACTUAL : YES'])\n",
    "plt.title('Confusion Matrix for Test:')\n",
    "plt.show()"
   ]
  },
  {
   "cell_type": "code",
   "execution_count": 113,
   "id": "a5994647",
   "metadata": {},
   "outputs": [
    {
     "name": "stdout",
     "output_type": "stream",
     "text": [
      "Accuracy score(Train): 0.9974229571566627\n",
      "Accuracy score(Test): 0.961356805495921\n",
      "ROC-AUC score(Train): 0.9974470049486668\n",
      "ROC-AUC score(Test): 0.9615828904635371\n",
      "F1 score(Train): 0.9973433694930264\n",
      "F1 score(Test): 0.9604916593503073\n",
      "Precision score(Train): 0.9964609599646096\n",
      "Precision score(Test): 0.9521322889469104\n",
      "Recall score(Train): 0.998227343230667\n",
      "Recall score(Test): 0.9689991142604074\n"
     ]
    }
   ],
   "source": [
    "acc_train_rf= accuracy_score(y_train,y_train_pred)\n",
    "acc_test_rf= accuracy_score(y_test,y_test_pred)\n",
    "auc_train_rf= roc_auc_score(y_train,y_train_pred)\n",
    "auc_test_rf= roc_auc_score(y_test,y_test_pred)\n",
    "f1_train_rf= f1_score(y_train,y_train_pred)\n",
    "f1_test_rf= f1_score(y_test,y_test_pred)\n",
    "pr_train_rf= precision_score(y_train,y_train_pred) \n",
    "pr_test_rf= precision_score(y_test,y_test_pred)\n",
    "re_train_rf= recall_score(y_train,y_train_pred)\n",
    "re_test_rf= recall_score(y_test,y_test_pred)\n",
    "\n",
    "print('Accuracy score(Train):',acc_train_rf)\n",
    "print('Accuracy score(Test):',acc_test_rf)\n",
    "print('ROC-AUC score(Train):',auc_train_rf)\n",
    "print('ROC-AUC score(Test):',auc_test_rf)\n",
    "print('F1 score(Train):',f1_train_rf)\n",
    "print('F1 score(Test):',f1_test_rf)\n",
    "print('Precision score(Train):',pr_train_rf)\n",
    "print('Precision score(Test):',pr_test_rf)\n",
    "print('Recall score(Train):',re_train_rf)\n",
    "print('Recall score(Test):',re_test_rf)"
   ]
  },
  {
   "cell_type": "markdown",
   "id": "8db20b08",
   "metadata": {},
   "source": [
    "## Boosting(Light gbm) "
   ]
  },
  {
   "cell_type": "code",
   "execution_count": 114,
   "id": "ae65ea79",
   "metadata": {},
   "outputs": [],
   "source": [
    "parameters = {'learning_rate': [0.001, 0.01, 0.1, 0.2, 0.3] , 'n_estimators': [10, 50, 75, 100, 200]}\n",
    "lgb_train=lgb.Dataset(X_train,label=y_train)\n",
    "lgbm_test=lgb.Dataset(X_test,label=y_test,reference=lgb_train)\n",
    "model1=lgb.LGBMClassifier()\n",
    "\n",
    "lgbm = GridSearchCV(model1,param_grid=parameters, cv=3, scoring='roc_auc',n_jobs=10,return_train_score=True)\n",
    "lgb_clf= lgbm.fit(X_train,y_train)"
   ]
  },
  {
   "cell_type": "code",
   "execution_count": 36,
   "id": "daa2cb17",
   "metadata": {},
   "outputs": [
    {
     "name": "stdout",
     "output_type": "stream",
     "text": [
      "LGBMClassifier(learning_rate=0.3, n_estimators=200)\n",
      "0.9999269240712018\n",
      "0.9861592116917627\n",
      "{'learning_rate': 0.3, 'n_estimators': 200}\n"
     ]
    }
   ],
   "source": [
    "print(lgb_clf.best_estimator_)\n",
    "print(lgb_clf.score(X_train,y_train))\n",
    "print(lgb_clf.score(X_test,y_test))\n",
    "print(lgb_clf.best_params_)"
   ]
  },
  {
   "cell_type": "code",
   "execution_count": 37,
   "id": "18e910aa",
   "metadata": {},
   "outputs": [
    {
     "name": "stdout",
     "output_type": "stream",
     "text": [
      "Best Learning Rate: 0.3\n",
      "Best n_estimators: 200\n",
      "Best Score: 0.9846469306286963\n"
     ]
    }
   ],
   "source": [
    "best_lr= lgb_clf.best_params_['learning_rate']\n",
    "best_est= lgb_clf.best_params_['n_estimators']\n",
    "best_score= lgb_clf.best_score_\n",
    "best_lp= lgb_clf.best_params_\n",
    "\n",
    "print(\"Best Learning Rate:\", best_lr)\n",
    "print(\"Best n_estimators:\",best_est)\n",
    "print(\"Best Score:\",best_score)"
   ]
  },
  {
   "cell_type": "code",
   "execution_count": 38,
   "id": "72888e06",
   "metadata": {},
   "outputs": [
    {
     "data": {
      "image/png": "[encoded data removed]",
      "text/plain": [
       "<Figure size 432x288 with 1 Axes>"
      ]
     },
     "metadata": {
      "needs_background": "light"
     },
     "output_type": "display_data"
    }
   ],
   "source": [
    "parameters = {'learning_rate':[0.3], 'n_estimators': [200]}\n",
    "\n",
    "best_model = lgb.LGBMClassifier(n_estimators =best_est,learning_rate =best_lr)\n",
    "lgb_best = GridSearchCV(best_model, parameters, cv=5, scoring='roc_auc')\n",
    "lgb_best.fit(X_train, y_train)\n",
    "\n",
    "y_train_pred = lgb_best.predict_proba(X_train)[:,1]    \n",
    "y_test_pred = lgb_best.predict_proba(X_test)[:,1]\n",
    "\n",
    "train_fpr, train_tpr, tr_thresholds = roc_curve(y_train, y_train_pred)\n",
    "test_fpr, test_tpr, te_thresholds = roc_curve(y_test, y_test_pred)\n",
    "\n",
    "plt.plot(train_fpr, train_tpr, label=\"train AUC =\"+str(auc(train_fpr, train_tpr)))\n",
    "plt.plot(test_fpr, test_tpr, label=\"test AUC =\"+str(auc(test_fpr, test_tpr)))\n",
    "plt.legend()\n",
    "plt.xlabel(\"False Positive Rate(FPR)\")\n",
    "plt.ylabel(\"True Positive Rate(TPR)\")\n",
    "plt.title(\"ERROR PLOTS\")\n",
    "plt.grid(color='black', linestyle='-', linewidth=0.3)\n",
    "plt.show()"
   ]
  },
  {
   "cell_type": "code",
   "execution_count": 39,
   "id": "5f1be8e6",
   "metadata": {},
   "outputs": [
    {
     "data": {
      "image/png": "[encoded data removed]",
      "text/plain": [
       "<Figure size 432x288 with 2 Axes>"
      ]
     },
     "metadata": {
      "needs_background": "light"
     },
     "output_type": "display_data"
    },
    {
     "data": {
      "image/png": "[encoded data removed]",
      "text/plain": [
       "<Figure size 432x288 with 2 Axes>"
      ]
     },
     "metadata": {
      "needs_background": "light"
     },
     "output_type": "display_data"
    }
   ],
   "source": [
    "y_train_pred = lgb_best.predict(X_train)\n",
    "y_test_pred = lgb_best.predict(X_test)\n",
    "cmtr= confusion_matrix(y_train_pred, y_train)\n",
    "sns.heatmap(cmtr,annot= True,fmt='0.1f',xticklabels=['PREDICTED : NO', 'PREDICTED : YES'], yticklabels=['ACTUAL : NO', 'ACTUAL : YES'])\n",
    "plt.title('Confusion Matrix for Train:')\n",
    "plt.show()\n",
    "cmte= confusion_matrix(y_test_pred, y_test)\n",
    "sns.heatmap(cmte,annot= True,fmt='0.1f',xticklabels=['PREDICTED : NO', 'PREDICTED : YES'], yticklabels=['ACTUAL : NO', 'ACTUAL : YES'])\n",
    "plt.title('Confusion Matrix for Test:')\n",
    "plt.show()"
   ]
  },
  {
   "cell_type": "code",
   "execution_count": 115,
   "id": "946d49ce",
   "metadata": {},
   "outputs": [
    {
     "name": "stdout",
     "output_type": "stream",
     "text": [
      "Accuracy score(Train): 0.9974229571566627\n",
      "Accuracy score(Test): 0.961356805495921\n",
      "ROC-AUC score(Train): 0.9974470049486668\n",
      "ROC-AUC score(Test): 0.9615828904635371\n",
      "F1 score(Train): 0.9973433694930264\n",
      "F1 score(Test): 0.9604916593503073\n",
      "Precision score(Train): 0.9964609599646096\n",
      "Precision score(Test): 0.9521322889469104\n",
      "Recall score(Train): 0.998227343230667\n",
      "Recall score(Test): 0.9689991142604074\n"
     ]
    }
   ],
   "source": [
    "acc_train_lgb= accuracy_score(y_train,y_train_pred)\n",
    "acc_test_lgb= accuracy_score(y_test,y_test_pred)\n",
    "auc_train_lgb= roc_auc_score(y_train,y_train_pred)\n",
    "auc_test_lgb= roc_auc_score(y_test,y_test_pred)\n",
    "f1_train_lgb= f1_score(y_train,y_train_pred)\n",
    "f1_test_lgb= f1_score(y_test,y_test_pred)\n",
    "pr_train_lgb= precision_score(y_train,y_train_pred) \n",
    "pr_test_lgb= precision_score(y_test,y_test_pred)\n",
    "re_train_lgb= recall_score(y_train,y_train_pred)\n",
    "re_test_lgb= recall_score(y_test,y_test_pred)\n",
    "\n",
    "print('Accuracy score(Train):',acc_train_lgb)\n",
    "print('Accuracy score(Test):',acc_test_lgb)\n",
    "print('ROC-AUC score(Train):',auc_train_lgb)\n",
    "print('ROC-AUC score(Test):',auc_test_lgb)\n",
    "print('F1 score(Train):',f1_train_lgb)\n",
    "print('F1 score(Test):',f1_test_lgb)\n",
    "print('Precision score(Train):',pr_train_lgb)\n",
    "print('Precision score(Test):',pr_test_lgb)\n",
    "print('Recall score(Train):',re_train_lgb)\n",
    "print('Recall score(Test):',re_test_lgb)"
   ]
  },
  {
   "cell_type": "markdown",
   "id": "7bc0c55e",
   "metadata": {},
   "source": [
    "### Feature Importance "
   ]
  },
  {
   "cell_type": "code",
   "execution_count": 41,
   "id": "3050b5b9",
   "metadata": {},
   "outputs": [
    {
     "data": {
      "image/png": "[encoded data removed]",
      "text/plain": [
       "<Figure size 720x864 with 1 Axes>"
      ]
     },
     "metadata": {
      "needs_background": "light"
     },
     "output_type": "display_data"
    }
   ],
   "source": [
    "features = X.columns\n",
    "importances = rf_best.feature_importances_\n",
    "indices = (np.argsort(importances))[-10:]\n",
    "plt.figure(figsize=(10,12))\n",
    "plt.title('Feature Importances')\n",
    "plt.barh(range(len(indices)), importances[indices], color='b', align='center')\n",
    "plt.yticks(range(len(indices)), [features[i] for i in indices])\n",
    "plt.xlabel('Relative Importance')\n",
    "plt.show()"
   ]
  },
  {
   "cell_type": "markdown",
   "id": "e236d203",
   "metadata": {},
   "source": [
    "### SMART- 9, 242, 241 and 193 have high and almost same feature importance"
   ]
  },
  {
   "cell_type": "markdown",
   "id": "4d1144f6",
   "metadata": {},
   "source": [
    "## Custom Model"
   ]
  },
  {
   "cell_type": "code",
   "execution_count": 55,
   "id": "c288d29a",
   "metadata": {},
   "outputs": [],
   "source": [
    "class Custom:\n",
    "    #initializing all the variables \n",
    "    def __init__(self,k,sample,X_train,y_train,x_test,y_test):\n",
    "        self.k= k\n",
    "        self.X= X_train.copy()\n",
    "        self.y= y_train.copy()\n",
    "        self.sample= sample\n",
    "        self.x_val= x_test\n",
    "        self.y_val= y_test\n",
    "#-------------------------------------------------------------------------------------------------------------------        \n",
    "    #Sampling Dataset d1 randomly\n",
    "    def data_sampling(self):\n",
    "        self.X['failure']= self.y\n",
    "        d1= self.X.sample(frac=0.5)\n",
    "        d2= self.X.drop(d1.index)\n",
    "        samp_ls=[]\n",
    "        for i in range(self.k):\n",
    "            s= d1.sample(self.sample)\n",
    "            samp_ls.append(s)\n",
    "         \n",
    "        #print(samp_ls)\n",
    "        data=[samp_ls,d2]\n",
    "        return data\n",
    "#--------------------------------------------------------------------------------------------------------------------    \n",
    "    #Choosing Base model RF and DT randomly\n",
    "    @staticmethod\n",
    "    def model_choice(k):\n",
    "        rf= rf= RandomForestClassifier(min_samples_leaf=2, min_samples_split=3,n_estimators=102)\n",
    "        dt= DecisionTreeClassifier(class_weight='balanced', max_depth=30,min_samples_split=10)\n",
    "        lg= lgb.LGBMClassifier(learning_rate=0.3, n_estimators=200)\n",
    "        model=[rf,lg]\n",
    "        ch= model*(k//len(model))\n",
    "        #print(len(ls))\n",
    "        return ch\n",
    "#--------------------------------------------------------------------------------------------------------------------    \n",
    "    #Training Model with Dataset d1 and testing on Dataset d2\n",
    "    def create_meta_data(self):\n",
    "        meta=[]\n",
    "        data=[]\n",
    "        d1_pred=[]\n",
    "        d2_pred=[]\n",
    "        val_pred=[]\n",
    "        c= self.model_choice(k) #Selecting model randomly k-times\n",
    "        ls= self.data_sampling() #Sampling d1 dataset multiple times\n",
    "        d1= ls[0]\n",
    "        d2= ls[1]\n",
    "        #xtr_d2=self.x_d2.copy()\n",
    "        x_eval= self.x_val.copy()\n",
    "        y_d2= d2['failure']\n",
    "        x_d2= d2.drop('failure',axis=1)\n",
    "        #Training the model on d1 sample and then testing on d2 dataset \n",
    "        for i in range(self.k):\n",
    "            y_train= d1[i]['failure']\n",
    "            x_train= d1[i].drop('failure',axis=1)\n",
    "            model=c[i].fit(x_train,y_train)\n",
    "            y_train_pred = model.predict(x_train) #Predicting d1 sample dataset\n",
    "            yd_train_pred = model.predict(x_d2) #Predicting d2 sample dataset\n",
    "            yx_test_pred = model.predict(self.x_val) #Predicting X_test dataset\n",
    "            #score= f1_score(yd_train_pred,self.y_d2)\n",
    "            meta.append(c[i]) #Storing base-model in list \n",
    "            #pm.append({c[i]:score})\n",
    "            d1_pred.append(y_train_pred) #appending d1 prediction value\n",
    "            d2_pred.append(yd_train_pred) #Appending d2 prediction value\n",
    "            val_pred.append(yx_test_pred) #Appending X_test prediction value\n",
    "            \n",
    "        #Creating new columns name for meta-data \n",
    "        pred=[]\n",
    "        for i in range(self.k):\n",
    "            p='pred_'+str(i)\n",
    "            pred.append(p)\n",
    "            \n",
    "        \n",
    "        #Creating a dataframe from new predicted data and then joining it with actual dataframe d2 \n",
    "        d2_dict={}\n",
    "        for i,v in enumerate(pred):\n",
    "            d2_dict[v]=d2_pred[i]\n",
    "        \n",
    "        yd_dict=dict()\n",
    "        yd2= np.array(y_d2)\n",
    "        yd_dict['failure']= yd2\n",
    "        \n",
    "        d2_dict.update(yd_dict)\n",
    "        x_d2.reset_index(drop=True, inplace=True)\n",
    "        d2_df= pd.DataFrame.from_dict(d2_dict)\n",
    "        \n",
    "        \n",
    "        frame_d2= [x_d2,d2_df]\n",
    "        meta_d2= pd.concat(frame_d2, axis=1)\n",
    "        \n",
    "        #Creating a dataframe from new predicted data and then joining it with actual dataframe x_val\n",
    "        val_dict={}\n",
    "        for i,v in enumerate(pred):\n",
    "            val_dict[v]= val_pred[i]\n",
    "        \n",
    "        yv_dict=dict()\n",
    "        yv= np.array(self.y_val)\n",
    "        yv_dict['failure']= yv\n",
    "        \n",
    "        val_dict.update(yv_dict)\n",
    "        x_eval.reset_index(drop=True, inplace=True)\n",
    "        test_df= pd.DataFrame.from_dict(val_dict)\n",
    "        \n",
    "        \n",
    "        frame_val= [x_eval,test_df]\n",
    "        meta_val= pd.concat(frame_val, axis=1)\n",
    "            \n",
    "        values= dict()\n",
    "        values['meta']=meta\n",
    "        values['d2_meta']=meta_d2\n",
    "        values['val_meta']=meta_val\n",
    "        #print(values['data'])\n",
    "            \n",
    "        return values\n",
    "#-----------------------------------------------------------------------------------------------------------------------    \n",
    "    #Model Evaluation \n",
    "    def meta_model(self):\n",
    "        \n",
    "        m= self.create_meta_data()\n",
    "        train= m['d2_meta']\n",
    "        test= m['val_meta']\n",
    "        #print(train)\n",
    "        y_train= train['failure']\n",
    "        x_train= train.drop('failure',axis=1)\n",
    "        y_test= test['failure']\n",
    "        x_test= test.drop('failure',axis=1)\n",
    "        #Final Evaluation Training on D2(meta-data) dataset and Test dataset(meta-data)\n",
    "        meta_model= lgb.LGBMClassifier(learning_rate=0.3, n_estimators=200).fit(x_train,y_train)\n",
    "        y_test_pred= meta_model.predict(x_test)\n",
    "        f1= f1_score(y_test_pred,y_test)\n",
    "        auc= roc_auc_score(y_test_pred,y_test)\n",
    "        acc= accuracy_score(y_test_pred,y_test)\n",
    "        pr= precision_score(y_test_pred,y_test)\n",
    "        re= recall_score(y_test_pred,y_test)\n",
    "        score= dict()\n",
    "        score['accuracy']= acc\n",
    "        score['f1']= f1\n",
    "        score['roc_auc']= auc\n",
    "        score['precision']= pr\n",
    "        score['recall']= re\n",
    "        \n",
    "        return score\n",
    "        "
   ]
  },
  {
   "cell_type": "code",
   "execution_count": 121,
   "id": "76423885",
   "metadata": {},
   "outputs": [],
   "source": [
    "k=10 #K is the number of times data sample wil be created randomly, k must be even number\n",
    "sample= 4000 #number of datapoints for each k- dataset\n",
    "c= Custom(k,sample,X_train,y_train,X_test,y_test)\n",
    "score= c.meta_model()\n",
    "f1_test_custom= score['f1']\n",
    "acc_test_custom= score['accuracy']\n",
    "auc_test_custom= score['roc_auc']\n",
    "pr_test_custom= score['precision']\n",
    "re_test_custom= score['recall']\n",
    "\n",
    "print('Accuracy score(Test):',acc_test_custom)\n",
    "print('ROC-AUC score(Test):',auc_test_custom)\n",
    "print('F1 score(Test):',f1_test_custom)\n",
    "print('Precision score(Test):',pr_test_custom)\n",
    "print('Recall score(Test):',re_test_custom)"
   ]
  },
  {
   "cell_type": "code",
   "execution_count": 122,
   "id": "6fbfa5ec",
   "metadata": {},
   "outputs": [
    {
     "name": "stdout",
     "output_type": "stream",
     "text": [
      "+---------------------+--------------------+---------------------+--------------------+--------------------+--------------------+\n",
      "|        Model        |      Accuracy      |       F1-Score      |     AUC Score      |     Precision      |       Recall       |\n",
      "+---------------------+--------------------+---------------------+--------------------+--------------------+--------------------+\n",
      "|         K-NN        | 0.5766423357664233 |  0.5094527363184079 | 0.5729993356953057 | 0.5811577752553916 | 0.4534986713906112 |\n",
      "| Logistic-Regression | 0.5886646629454702 |  0.5476864966949953 | 0.5864478151756717 | 0.5864509605662285 | 0.5137289636846767 |\n",
      "|     Naive-Bayes     | 0.5474452554744526 | 0.33959899749373434 | 0.5383510481251845 | 0.5802997858672377 | 0.2400354295837024 |\n",
      "|    Decision Tree    | 0.9325890940317733 |  0.9312910284463894 | 0.9328801299084736 | 0.9204152249134948 | 0.9424269264836138 |\n",
      "|    Random Forest    | 0.961356805495921  |  0.9604916593503073 | 0.9615828904635371 | 0.9521322889469104 | 0.9689991142604074 |\n",
      "|      Light-GBM      | 0.961356805495921  |  0.9604916593503073 | 0.9615828904635371 | 0.9521322889469104 | 0.9689991142604074 |\n",
      "|     Custom-Model    | 0.9622155431515672 |  0.9614711033274955 | 0.9621219496006549 | 0.9725420726306466 | 0.9506493506493506 |\n",
      "+---------------------+--------------------+---------------------+--------------------+--------------------+--------------------+\n"
     ]
    }
   ],
   "source": [
    "from prettytable import PrettyTable\n",
    "p= PrettyTable()\n",
    "p.field_names=['Model','Accuracy','F1-Score','AUC Score','Precision','Recall']\n",
    "p.add_row(['K-NN', acc_test_knn, f1_test_knn, auc_test_knn, pr_test_knn, re_test_knn])\n",
    "p.add_row(['Logistic-Regression', acc_test_lr, f1_test_lr, auc_test_lr, pr_test_lr, re_test_lr])\n",
    "p.add_row(['Naive-Bayes', acc_test_nb, f1_test_nb, auc_test_nb, pr_test_nb, re_test_nb])\n",
    "p.add_row(['Decision Tree', acc_test_dt, f1_test_dt, auc_test_dt, pr_test_dt, re_test_dt])\n",
    "p.add_row(['Random Forest', acc_test_rf, f1_test_rf, auc_test_rf, pr_test_rf, re_test_rf])\n",
    "p.add_row(['Light-GBM', acc_test_rf, f1_test_rf, auc_test_rf, pr_test_rf, re_test_rf])\n",
    "p.add_row(['Custom-Model', acc_test_custom, f1_test_custom, auc_test_custom, pr_test_custom, re_test_custom])\n",
    "print(p)"
   ]
  }
 ],
 "metadata": {
  "kernelspec": {
   "display_name": "Python 3 (ipykernel)",
   "language": "python",
   "name": "python3"
  },
  "language_info": {
   "codemirror_mode": {
    "name": "ipython",
    "version": 3
   },
   "file_extension": ".py",
   "mimetype": "text/x-python",
   "name": "python",
   "nbconvert_exporter": "python",
   "pygments_lexer": "ipython3",
   "version": "3.9.7"
  }
 },
 "nbformat": 4,
 "nbformat_minor": 5
}
